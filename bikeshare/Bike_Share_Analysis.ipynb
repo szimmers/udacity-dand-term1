{
 "cells": [
  {
   "cell_type": "markdown",
   "metadata": {},
   "source": [
    "# 2016 US Bike Share Activity Snapshot\n",
    "\n",
    "## Table of Contents\n",
    "- [Introduction](#intro)\n",
    "- [Posing Questions](#pose_questions)\n",
    "- [Data Collection and Wrangling](#wrangling)\n",
    "  - [Condensing the Trip Data](#condensing)\n",
    "- [Exploratory Data Analysis](#eda)\n",
    "  - [Statistics](#statistics)\n",
    "  - [Visualizations](#visualizations)\n",
    "- [Performing Your Own Analysis](#eda_continued)\n",
    "- [Conclusions](#conclusions)\n",
    "\n",
    "<a id='intro'></a>\n",
    "## Introduction\n",
    "\n",
    "> **Tip**: Quoted sections like this will provide helpful instructions on how to navigate and use a Jupyter notebook.\n",
    "\n",
    "Over the past decade, bicycle-sharing systems have been growing in number and popularity in cities across the world. Bicycle-sharing systems allow users to rent bicycles for short trips, typically 30 minutes or less. Thanks to the rise in information technologies, it is easy for a user of the system to access a dock within the system to unlock or return bicycles. These technologies also provide a wealth of data that can be used to explore how these bike-sharing systems are used.\n",
    "\n",
    "In this project, you will perform an exploratory analysis on data provided by [Motivate](https://www.motivateco.com/), a bike-share system provider for many major cities in the United States. You will compare the system usage between three large cities: New York City, Chicago, and Washington, DC. You will also see if there are any differences within each system for those users that are registered, regular users and those users that are short-term, casual users."
   ]
  },
  {
   "cell_type": "markdown",
   "metadata": {},
   "source": [
    "<a id='pose_questions'></a>\n",
    "## Posing Questions\n",
    "\n",
    "Before looking at the bike sharing data, you should start by asking questions you might want to understand about the bike share data. Consider, for example, if you were working for Motivate. What kinds of information would you want to know about in order to make smarter business decisions? If you were a user of the bike-share service, what factors might influence how you would want to use the service?\n",
    "\n",
    "**Question 1**: Write at least two questions related to bike sharing that you think could be answered by data.\n",
    "\n",
    "**Answer**: \n",
    "1. What can we learn about the time duration of each trip, e.g. mean and std dev?\n",
    "1. What can we learn about the distance of each trip, e.g. mean and std dev?\n",
    "1. What can we learn about the velocity of each trip, e.g. mean and std dev?\n",
    "1. At what time(s) of day do the most trips occur?\n",
    "1. How does the gender of the rider vary with each of the above?\n",
    "1. Do these values vary across cities, or is it largely the same?\n",
    "\n",
    "> **Tip**: If you double click on this cell, you will see the text change so that all of the formatting is removed. This allows you to edit this block of text. This block of text is written using [Markdown](http://daringfireball.net/projects/markdown/syntax), which is a way to format text using headers, links, italics, and many other options using a plain-text syntax. You will also use Markdown later in the Nanodegree program. Use **Shift** + **Enter** or **Shift** + **Return** to run the cell and show its rendered form."
   ]
  },
  {
   "cell_type": "markdown",
   "metadata": {},
   "source": [
    "<a id='wrangling'></a>\n",
    "## Data Collection and Wrangling\n",
    "\n",
    "Now it's time to collect and explore our data. In this project, we will focus on the record of individual trips taken in 2016 from our selected cities: New York City, Chicago, and Washington, DC. Each of these cities has a page where we can freely download the trip data.:\n",
    "\n",
    "- New York City (Citi Bike): [Link](https://www.citibikenyc.com/system-data)\n",
    "- Chicago (Divvy): [Link](https://www.divvybikes.com/system-data)\n",
    "- Washington, DC (Capital Bikeshare): [Link](https://www.capitalbikeshare.com/system-data)\n",
    "\n",
    "If you visit these pages, you will notice that each city has a different way of delivering its data. Chicago updates with new data twice a year, Washington DC is quarterly, and New York City is monthly. **However, you do not need to download the data yourself.** The data has already been collected for you in the `/data/` folder of the project files. While the original data for 2016 is spread among multiple files for each city, the files in the `/data/` folder collect all of the trip data for the year into one file per city. Some data wrangling of inconsistencies in timestamp format within each city has already been performed for you. In addition, a random 2% sample of the original data is taken to make the exploration more manageable. \n",
    "\n",
    "**Question 2**: However, there is still a lot of data for us to investigate, so it's a good idea to start off by looking at one entry from each of the cities we're going to analyze. Run the first code cell below to load some packages and functions that you'll be using in your analysis. Then, complete the second code cell to print out the first trip recorded from each of the cities (the second line of each data file).\n",
    "\n",
    "> **Tip**: You can run a code cell like you formatted Markdown cells above by clicking on the cell and using the keyboard shortcut **Shift** + **Enter** or **Shift** + **Return**. Alternatively, a code cell can be executed using the **Play** button in the toolbar after selecting it. While the cell is running, you will see an asterisk in the message to the left of the cell, i.e. `In [*]:`. The asterisk will change into a number to show that execution has completed, e.g. `In [1]`. If there is output, it will show up as `Out [1]:`, with an appropriate number to match the \"In\" number."
   ]
  },
  {
   "cell_type": "code",
   "execution_count": 5,
   "metadata": {
    "collapsed": true
   },
   "outputs": [],
   "source": [
    "## import all necessary packages and functions.\n",
    "import csv # read and write csv files\n",
    "from datetime import datetime # operations to parse dates\n",
    "from pprint import pprint # use to print data structures like dictionaries in\n",
    "                          # a nicer way than the base print function."
   ]
  },
  {
   "cell_type": "code",
   "execution_count": 6,
   "metadata": {},
   "outputs": [
    {
     "name": "stdout",
     "output_type": "stream",
     "text": [
      "\n",
      "City: NYC\n",
      "OrderedDict([('tripduration', '839'),\n",
      "             ('starttime', '1/1/2016 00:09:55'),\n",
      "             ('stoptime', '1/1/2016 00:23:54'),\n",
      "             ('start station id', '532'),\n",
      "             ('start station name', 'S 5 Pl & S 4 St'),\n",
      "             ('start station latitude', '40.710451'),\n",
      "             ('start station longitude', '-73.960876'),\n",
      "             ('end station id', '401'),\n",
      "             ('end station name', 'Allen St & Rivington St'),\n",
      "             ('end station latitude', '40.72019576'),\n",
      "             ('end station longitude', '-73.98997825'),\n",
      "             ('bikeid', '17109'),\n",
      "             ('usertype', 'Customer'),\n",
      "             ('birth year', ''),\n",
      "             ('gender', '0')])\n",
      "\n",
      "City: Chicago\n",
      "OrderedDict([('trip_id', '9080545'),\n",
      "             ('starttime', '3/31/2016 23:30'),\n",
      "             ('stoptime', '3/31/2016 23:46'),\n",
      "             ('bikeid', '2295'),\n",
      "             ('tripduration', '926'),\n",
      "             ('from_station_id', '156'),\n",
      "             ('from_station_name', 'Clark St & Wellington Ave'),\n",
      "             ('to_station_id', '166'),\n",
      "             ('to_station_name', 'Ashland Ave & Wrightwood Ave'),\n",
      "             ('usertype', 'Subscriber'),\n",
      "             ('gender', 'Male'),\n",
      "             ('birthyear', '1990')])\n",
      "\n",
      "City: Washington\n",
      "OrderedDict([('Duration (ms)', '427387'),\n",
      "             ('Start date', '3/31/2016 22:57'),\n",
      "             ('End date', '3/31/2016 23:04'),\n",
      "             ('Start station number', '31602'),\n",
      "             ('Start station', 'Park Rd & Holmead Pl NW'),\n",
      "             ('End station number', '31207'),\n",
      "             ('End station', 'Georgia Ave and Fairmont St NW'),\n",
      "             ('Bike number', 'W20842'),\n",
      "             ('Member Type', 'Registered')])\n"
     ]
    }
   ],
   "source": [
    "def print_first_point(filename):\n",
    "    \"\"\"\n",
    "    This function prints and returns the first data point (second row) from\n",
    "    a csv file that includes a header row.\n",
    "    \"\"\"\n",
    "    # print city name for reference\n",
    "    city = filename.split('-')[0].split('/')[-1]\n",
    "    print('\\nCity: {}'.format(city))\n",
    "    \n",
    "    with open(filename, 'r') as f_in:\n",
    "        ## TODO: Use the csv library to set up a DictReader object. ##\n",
    "        ## see https://docs.python.org/3/library/csv.html           ##\n",
    "        trip_reader = csv.DictReader(f_in)\n",
    "        \n",
    "        ## TODO: Use a function on the DictReader object to read the     ##\n",
    "        ## first trip from the data file and store it in a variable.     ##\n",
    "        ## see https://docs.python.org/3/library/csv.html#reader-objects ##\n",
    "        first_trip = trip_reader.__next__()\n",
    "        \n",
    "        ## TODO: Use the pprint library to print the first trip. ##\n",
    "        ## see https://docs.python.org/3/library/pprint.html     ##\n",
    "        pprint(first_trip)\n",
    "        \n",
    "    # output city name and first trip for later testing\n",
    "    return (city, first_trip)\n",
    "\n",
    "# list of files for each city\n",
    "data_files = ['./data/NYC-CitiBike-2016.csv',\n",
    "              './data/Chicago-Divvy-2016.csv',\n",
    "              './data/Washington-CapitalBikeshare-2016.csv',]\n",
    "\n",
    "# print the first trip from each file, store in dictionary\n",
    "example_trips = {}\n",
    "for data_file in data_files:\n",
    "    city, first_trip = print_first_point(data_file)\n",
    "    example_trips[city] = first_trip"
   ]
  },
  {
   "cell_type": "markdown",
   "metadata": {},
   "source": [
    "If everything has been filled out correctly, you should see below the printout of each city name (which has been parsed from the data file name) that the first trip has been parsed in the form of a dictionary. When you set up a `DictReader` object, the first row of the data file is normally interpreted as column names. Every other row in the data file will use those column names as keys, as a dictionary is generated for each row.\n",
    "\n",
    "This will be useful since we can refer to quantities by an easily-understandable label instead of just a numeric index. For example, if we have a trip stored in the variable `row`, then we would rather get the trip duration from `row['duration']` instead of `row[0]`.\n",
    "\n",
    "<a id='condensing'></a>\n",
    "### Condensing the Trip Data\n",
    "\n",
    "It should also be observable from the above printout that each city provides different information. Even where the information is the same, the column names and formats are sometimes different. To make things as simple as possible when we get to the actual exploration, we should trim and clean the data. Cleaning the data makes sure that the data formats across the cities are consistent, while trimming focuses only on the parts of the data we are most interested in to make the exploration easier to work with.\n",
    "\n",
    "You will generate new data files with five values of interest for each trip: trip duration, starting month, starting hour, day of the week, and user type. Each of these may require additional wrangling depending on the city:\n",
    "\n",
    "- **Duration**: This has been given to us in seconds (New York, Chicago) or milliseconds (Washington). A more natural unit of analysis will be if all the trip durations are given in terms of minutes.\n",
    "- **Month**, **Hour**, **Day of Week**: Ridership volume is likely to change based on the season, time of day, and whether it is a weekday or weekend. Use the start time of the trip to obtain these values. The New York City data includes the seconds in their timestamps, while Washington and Chicago do not. The [`datetime`](https://docs.python.org/3/library/datetime.html) package will be very useful here to make the needed conversions.\n",
    "- **User Type**: It is possible that users who are subscribed to a bike-share system will have different patterns of use compared to users who only have temporary passes. Washington divides its users into two types: 'Registered' for users with annual, monthly, and other longer-term subscriptions, and 'Casual', for users with 24-hour, 3-day, and other short-term passes. The New York and Chicago data uses 'Subscriber' and 'Customer' for these groups, respectively. For consistency, you will convert the Washington labels to match the other two. It also turns out that there are some trips in the New York city dataset that do not have an attached user type. Since we don't have enough information to fill these values in, just leave them as-is for now.\n",
    "\n",
    "\n",
    "**Question 3a**: Complete the helper functions in the code cells below to address each of the cleaning tasks described above."
   ]
  },
  {
   "cell_type": "code",
   "execution_count": 7,
   "metadata": {
    "collapsed": true
   },
   "outputs": [],
   "source": [
    "def duration_in_mins(datum, city):\n",
    "    \"\"\"\n",
    "    Takes as input a dictionary containing info about a single trip (datum) and\n",
    "    its origin city (city) and returns the trip duration in units of minutes.\n",
    "    \n",
    "    Remember that Washington is in terms of milliseconds while Chicago and NYC\n",
    "    are in terms of seconds. \n",
    "    \n",
    "    HINT: The csv module reads in all of the data as strings, including numeric\n",
    "    values. You will need a function to convert the strings into an appropriate\n",
    "    numeric type when making your transformations.\n",
    "    see https://docs.python.org/3/library/functions.html\n",
    "    \"\"\"\n",
    "    \n",
    "    if city == 'NYC' or city == 'Chicago':\n",
    "        duration_in_s = int(datum['tripduration'])\n",
    "        duration = duration_in_s / 60.0\n",
    "    elif city == 'Washington':\n",
    "        duration_in_ms = int(datum['Duration (ms)'])\n",
    "        duration = duration_in_ms / 1000 / 60.0\n",
    "    \n",
    "    return duration\n",
    "\n",
    "\n",
    "# Some tests to check that your code works. There should be no output if all of\n",
    "# the assertions pass. The `example_trips` dictionary was obtained from when\n",
    "# you printed the first trip from each of the original data files.\n",
    "tests = {'NYC': 13.9833,\n",
    "         'Chicago': 15.4333,\n",
    "         'Washington': 7.1231}\n",
    "\n",
    "for city in tests:\n",
    "    assert abs(duration_in_mins(example_trips[city], city) - tests[city]) < .001"
   ]
  },
  {
   "cell_type": "code",
   "execution_count": 8,
   "metadata": {
    "collapsed": true
   },
   "outputs": [],
   "source": [
    "def time_of_trip(datum, city):\n",
    "    \"\"\"\n",
    "    Takes as input a dictionary containing info about a single trip (datum) and\n",
    "    its origin city (city) and returns the month, hour, and day of the week in\n",
    "    which the trip was made.\n",
    "    \n",
    "    Remember that NYC includes seconds, while Washington and Chicago do not.\n",
    "    \n",
    "    HINT: You should use the datetime module to parse the original date\n",
    "    strings into a format that is useful for extracting the desired information.\n",
    "    see https://docs.python.org/3/library/datetime.html#strftime-and-strptime-behavior\n",
    "    \"\"\"\n",
    "    \n",
    "    if city == 'NYC':\n",
    "        start = datum['starttime']\n",
    "        d = datetime.strptime(start, '%m/%d/%Y %H:%M:%S')\n",
    "        month = int(d.strftime('%m'))\n",
    "        hour = int(d.strftime('%H'))\n",
    "        day_of_week = d.strftime('%A')\n",
    "    elif city == 'Chicago':\n",
    "        start = datum['starttime']\n",
    "        d = datetime.strptime(start, '%m/%d/%Y %H:%M')\n",
    "        month = int(d.strftime('%m'))\n",
    "        hour = int(d.strftime('%H'))\n",
    "        day_of_week = d.strftime('%A')\n",
    "    elif city == 'Washington':\n",
    "        start = datum['Start date']\n",
    "        d = datetime.strptime(start, '%m/%d/%Y %H:%M')\n",
    "        month = int(d.strftime('%m'))\n",
    "        hour = int(d.strftime('%H'))\n",
    "        day_of_week = d.strftime('%A')\n",
    "    \n",
    "    return (month, hour, day_of_week)\n",
    "\n",
    "\n",
    "# Some tests to check that your code works. There should be no output if all of\n",
    "# the assertions pass. The `example_trips` dictionary was obtained from when\n",
    "# you printed the first trip from each of the original data files.\n",
    "tests = {'NYC': (1, 0, 'Friday'),\n",
    "         'Chicago': (3, 23, 'Thursday'),\n",
    "         'Washington': (3, 22, 'Thursday')}\n",
    "\n",
    "for city in tests:\n",
    "    assert time_of_trip(example_trips[city], city) == tests[city]"
   ]
  },
  {
   "cell_type": "code",
   "execution_count": 9,
   "metadata": {
    "collapsed": true
   },
   "outputs": [],
   "source": [
    "def type_of_user(datum, city):\n",
    "    \"\"\"\n",
    "    Takes as input a dictionary containing info about a single trip (datum) and\n",
    "    its origin city (city) and returns the type of system user that made the\n",
    "    trip.\n",
    "    \n",
    "    Remember that Washington has different category names compared to Chicago\n",
    "    and NYC. NYC has some data points with a missing user type; you can leave\n",
    "    these as they are (empty string).\n",
    "    \"\"\"\n",
    "    \n",
    "    if city == 'NYC' or city == 'Chicago':\n",
    "        user_type = datum['usertype']\n",
    "    elif city == 'Washington':\n",
    "        dc_user_type = datum['Member Type']\n",
    "        if dc_user_type == 'Registered':\n",
    "            user_type = 'Subscriber'\n",
    "        elif dc_user_type == 'Casual':\n",
    "            user_type = 'Customer'\n",
    "    \n",
    "    return user_type\n",
    "\n",
    "\n",
    "# Some tests to check that your code works. There should be no output if all of\n",
    "# the assertions pass. The `example_trips` dictionary was obtained from when\n",
    "# you printed the first trip from each of the original data files.\n",
    "tests = {'NYC': 'Customer',\n",
    "         'Chicago': 'Subscriber',\n",
    "         'Washington': 'Subscriber'}\n",
    "\n",
    "for city in tests:\n",
    "    assert type_of_user(example_trips[city], city) == tests[city]"
   ]
  },
  {
   "cell_type": "markdown",
   "metadata": {},
   "source": [
    "**Question 3b**: Now, use the helper functions you wrote above to create a condensed data file for each city consisting only of the data fields indicated above. In the `/examples/` folder, you will see an example datafile from the [Bay Area Bike Share](http://www.bayareabikeshare.com/open-data) before and after conversion. Make sure that your output is formatted to be consistent with the example file."
   ]
  },
  {
   "cell_type": "code",
   "execution_count": 10,
   "metadata": {
    "collapsed": true
   },
   "outputs": [],
   "source": [
    "def condense_data(in_file, out_file, city):\n",
    "    \"\"\"\n",
    "    This function takes full data from the specified input file\n",
    "    and writes the condensed data to a specified output file. The city\n",
    "    argument determines how the input file will be parsed.\n",
    "    \n",
    "    HINT: See the cell below to see how the arguments are structured!\n",
    "    \"\"\"\n",
    "\n",
    "    with open(out_file, 'w') as f_out, open(in_file, 'r') as f_in:\n",
    "        # set up csv DictWriter object - writer requires column names for the\n",
    "        # first row as the \"fieldnames\" argument\n",
    "        out_colnames = ['duration', 'month', 'hour', 'day_of_week', 'user_type']\n",
    "        trip_writer = csv.DictWriter(f_out, fieldnames=out_colnames)\n",
    "        trip_writer.writeheader()\n",
    "\n",
    "        ## TODO: set up csv DictReader object ##\n",
    "        trip_reader = csv.DictReader(f_in)\n",
    "\n",
    "        # collect data from and process each row\n",
    "        for row in trip_reader: \n",
    "            # set up a dictionary to hold the values for the cleaned and trimmed\n",
    "            # data point\n",
    "            new_point = {}\n",
    "\n",
    "            ## TODO: use the helper functions to get the cleaned data from  ##\n",
    "            ## the original data dictionaries.                              ##\n",
    "            ## Note that the keys for the new_point dictionary should match ##\n",
    "            ## the column names set in the DictWriter object above.         ##\n",
    "            duration = duration_in_mins(row, city)\n",
    "            month, hour, day_of_week = time_of_trip(row, city)\n",
    "            user_type = type_of_user(row, city)\n",
    "\n",
    "            new_point['duration'] = duration\n",
    "            new_point['month'] = month\n",
    "            new_point['hour'] = hour\n",
    "            new_point['day_of_week'] = day_of_week\n",
    "            new_point['user_type'] = user_type\n",
    "\n",
    "            ## TODO: write the processed information to the output file.     ##\n",
    "            ## see https://docs.python.org/3/library/csv.html#writer-objects ##\n",
    "            trip_writer.writerow(new_point)\n"
   ]
  },
  {
   "cell_type": "code",
   "execution_count": 11,
   "metadata": {},
   "outputs": [
    {
     "name": "stdout",
     "output_type": "stream",
     "text": [
      "\n",
      "City: Washington\n",
      "OrderedDict([('duration', '7.123116666666666'),\n",
      "             ('month', '3'),\n",
      "             ('hour', '22'),\n",
      "             ('day_of_week', 'Thursday'),\n",
      "             ('user_type', 'Subscriber')])\n",
      "\n",
      "City: Chicago\n",
      "OrderedDict([('duration', '15.433333333333334'),\n",
      "             ('month', '3'),\n",
      "             ('hour', '23'),\n",
      "             ('day_of_week', 'Thursday'),\n",
      "             ('user_type', 'Subscriber')])\n",
      "\n",
      "City: NYC\n",
      "OrderedDict([('duration', '13.983333333333333'),\n",
      "             ('month', '1'),\n",
      "             ('hour', '0'),\n",
      "             ('day_of_week', 'Friday'),\n",
      "             ('user_type', 'Customer')])\n"
     ]
    }
   ],
   "source": [
    "# Run this cell to check your work\n",
    "city_info = {'Washington': {'in_file': './data/Washington-CapitalBikeshare-2016.csv',\n",
    "                            'out_file': './data/Washington-2016-Summary.csv'},\n",
    "             'Chicago': {'in_file': './data/Chicago-Divvy-2016.csv',\n",
    "                         'out_file': './data/Chicago-2016-Summary.csv'},\n",
    "             'NYC': {'in_file': './data/NYC-CitiBike-2016.csv',\n",
    "                     'out_file': './data/NYC-2016-Summary.csv'}}\n",
    "\n",
    "for city, filenames in city_info.items():\n",
    "    condense_data(filenames['in_file'], filenames['out_file'], city)\n",
    "    print_first_point(filenames['out_file'])\n"
   ]
  },
  {
   "cell_type": "markdown",
   "metadata": {},
   "source": [
    "> **Tip**: If you save a jupyter Notebook, the output from running code blocks will also be saved. However, the state of your workspace will be reset once a new session is started. Make sure that you run all of the necessary code blocks from your previous session to reestablish variables and functions before picking up where you last left off.\n",
    "\n",
    "<a id='eda'></a>\n",
    "## Exploratory Data Analysis\n",
    "\n",
    "Now that you have the data collected and wrangled, you're ready to start exploring the data. In this section you will write some code to compute descriptive statistics from the data. You will also be introduced to the `matplotlib` library to create some basic histograms of the data.\n",
    "\n",
    "<a id='statistics'></a>\n",
    "### Statistics\n",
    "\n",
    "First, let's compute some basic counts. The first cell below contains a function that uses the csv module to iterate through a provided data file, returning the number of trips made by subscribers and customers. The second cell runs this function on the example Bay Area data in the `/examples/` folder. Modify the cells to answer the question below.\n",
    "\n",
    "**Question 4a**: Which city has the highest number of trips? Which city has the highest proportion of trips made by subscribers? Which city has the highest proportion of trips made by short-term customers?\n",
    "\n",
    "**Answer**:\n",
    "- NYC had the highest number of trips, with 245,896\n",
    "- NYC had the highest proportion of trips by subscribers, with 89.1%\n",
    "- Chicago had the hightest proprtion of trips by short-term customers, with 23.8%"
   ]
  },
  {
   "cell_type": "code",
   "execution_count": 12,
   "metadata": {
    "collapsed": true
   },
   "outputs": [],
   "source": [
    "def number_of_trips(filename):\n",
    "    \"\"\"\n",
    "    This function reads in a file with trip data and reports the number of\n",
    "    trips made by subscribers, customers, and total overall. \n",
    "    :param filename: \n",
    "    :return: several parameters of totals and ratios\n",
    "    \"\"\"\n",
    "    with open(filename, 'r') as f_in:\n",
    "        # set up csv reader object\n",
    "        reader = csv.DictReader(f_in)\n",
    "        \n",
    "        # initialize count variables\n",
    "        n_subscribers = 0\n",
    "        n_customers = 0\n",
    "        \n",
    "        # tally up ride types\n",
    "        for row in reader:\n",
    "            if row['user_type'] == 'Subscriber':\n",
    "                n_subscribers += 1\n",
    "            elif row['user_type'] == 'Customer':\n",
    "                n_customers += 1\n",
    "        \n",
    "        # compute total number of rides\n",
    "        n_total = n_subscribers + n_customers\n",
    "        \n",
    "        ratio_subscribers = n_subscribers / n_total\n",
    "        ratio_customers = n_customers / n_total\n",
    "        \n",
    "        # return tallies as a tuple\n",
    "        return(n_subscribers, n_customers, n_total, ratio_subscribers, ratio_customers)"
   ]
  },
  {
   "cell_type": "code",
   "execution_count": 13,
   "metadata": {},
   "outputs": [
    {
     "name": "stdout",
     "output_type": "stream",
     "text": [
      "Chicago (54982, 17149, 72131, 0.7622520136973008, 0.23774798630269925)\n",
      "NYC (245896, 30185, 276081, 0.8906661450806104, 0.1093338549193896)\n",
      "Washington (51753, 14573, 66326, 0.7802822422579381, 0.21971775774206193)\n"
     ]
    }
   ],
   "source": [
    "## Modify this and the previous cell to answer Question 4a. Remember to run ##\n",
    "## the function on the cleaned data files you created from Question 3.      ##\n",
    "\n",
    "print('Chicago', number_of_trips('./data/Chicago-2016-Summary.csv'))\n",
    "print('NYC', number_of_trips('./data/NYC-2016-Summary.csv'))\n",
    "print('Washington', number_of_trips('./data/Washington-2016-Summary.csv'))"
   ]
  },
  {
   "cell_type": "markdown",
   "metadata": {},
   "source": [
    "> **Tip**: In order to add additional cells to a notebook, you can use the \"Insert Cell Above\" and \"Insert Cell Below\" options from the menu bar above. There is also an icon in the toolbar for adding new cells, with additional icons for moving the cells up and down the document. By default, new cells are of the code type; you can also specify the cell type (e.g. Code or Markdown) of selected cells from the Cell menu or the dropdown in the toolbar.\n",
    "\n",
    "Now, you will write your own code to continue investigating properties of the data.\n",
    "\n",
    "**Question 4b**: Bike-share systems are designed for riders to take short trips. Most of the time, users are allowed to take trips of 30 minutes or less with no additional charges, with overage charges made for trips of longer than that duration. What is the average trip length for each city? What proportion of rides made in each city are longer than 30 minutes?\n",
    "\n",
    "**Answer**:\n",
    "\n",
    "| City | Average Duration (min) | % > 30 min |\n",
    "| :--- | :--------------------: | :--------: |\n",
    "| Chicago | 16.6 | 8.4 |\n",
    "| NYC | 15.8 | 7.3 |\n",
    "| Washington | 18.9 | 10.8 |\n"
   ]
  },
  {
   "cell_type": "code",
   "execution_count": 14,
   "metadata": {
    "collapsed": true,
    "scrolled": true
   },
   "outputs": [],
   "source": [
    "## Use this and additional cells to answer Question 4b.                 ##\n",
    "##                                                                      ##\n",
    "## HINT: The csv module reads in all of the data as strings, including  ##\n",
    "## numeric values. You will need a function to convert the strings      ##\n",
    "## into an appropriate numeric type before you aggregate data.          ##\n",
    "## TIP: For the Bay Area example, the average trip length is 14 minutes ##\n",
    "## and 3.5% of trips are longer than 30 minutes.                        ##\n",
    "\n",
    "def length_of_trips(filename, who_for=\"BOTH\"):\n",
    "    \"\"\"\n",
    "    This function reads in a file with trip data and reports info about the\n",
    "    length of the trips\n",
    "    :param filename: \n",
    "    :return: several parameters of totals and ratios\n",
    "    \"\"\"\n",
    "    with open(filename, 'r') as f_in:\n",
    "        # set up csv reader object\n",
    "        reader = csv.DictReader(f_in)\n",
    "\n",
    "        total_time = 0\n",
    "        num_trips_under_30 = 0\n",
    "        num_trips = 0\n",
    "        \n",
    "        # tally up ride types\n",
    "        for row in reader:\n",
    "            user_type = row['user_type']\n",
    "            \n",
    "            if who_for == \"BOTH\" or who_for == user_type:\n",
    "                num_trips += 1\n",
    "                duration = float(row['duration'])\n",
    "                total_time += duration\n",
    "\n",
    "                if duration < 30.0:\n",
    "                    num_trips_under_30 += 1\n",
    "\n",
    "        if num_trips > 0:\n",
    "            ratio_under_30 = num_trips_under_30 / num_trips\n",
    "            average_duration = total_time / num_trips\n",
    "        else:\n",
    "            ratio_under_30 = 0\n",
    "            average_duration = 0\n",
    "\n",
    "        ratio_over_30 = 1 - ratio_under_30\n",
    "        \n",
    "        \n",
    "        return total_time, average_duration, ratio_under_30, ratio_over_30\n"
   ]
  },
  {
   "cell_type": "code",
   "execution_count": 15,
   "metadata": {},
   "outputs": [
    {
     "name": "stdout",
     "output_type": "stream",
     "text": [
      "Chicago (1194751.1499999992, 16.563629368787335, 0.9165268747140619, 0.08347312528593809)\n",
      "NYC (4376894.116666754, 15.81259299802294, 0.9268311187219561, 0.07316888127804388)\n",
      "Washington (1255741.7716833346, 18.93287355913721, 0.8916111328890631, 0.10838886711093687)\n"
     ]
    }
   ],
   "source": [
    "print('Chicago', length_of_trips('./data/Chicago-2016-Summary.csv'))\n",
    "print('NYC', length_of_trips('./data/NYC-2016-Summary.csv'))\n",
    "print('Washington', length_of_trips('./data/Washington-2016-Summary.csv'))\n",
    "# print('Bay Area', length_of_trips('./examples/BayArea-Y3-Summary.csv'))\n"
   ]
  },
  {
   "cell_type": "markdown",
   "metadata": {},
   "source": [
    "**Question 4c**: Dig deeper into the question of trip duration based on ridership. Choose one city. Within that city, which type of user takes longer rides on average: Subscribers or Customers?\n",
    "\n",
    "**Answer**:\n",
    "I chose to examine Chicago. For Chicago, Customers average longer rides."
   ]
  },
  {
   "cell_type": "code",
   "execution_count": 16,
   "metadata": {},
   "outputs": [
    {
     "name": "stdout",
     "output_type": "stream",
     "text": [
      "30.979781133982506 12.067201690250076\n",
      "Chicago: Customer\n"
     ]
    }
   ],
   "source": [
    "## Use this and additional cells to answer Question 4c. If you have    ##\n",
    "## not done so yet, consider revising some of your previous code to    ##\n",
    "## make use of functions for reusability.                              ##\n",
    "##                                                                     ##\n",
    "## TIP: For the Bay Area example data, you should find the average     ##\n",
    "## Subscriber trip duration to be 9.5 minutes and the average Customer ##\n",
    "## trip duration to be 54.6 minutes. Do the other cities have this     ##\n",
    "## level of difference?                                                ##\n",
    "\n",
    "def whose_average_rides_are_longer(filename):\n",
    "    _, average_duration_customers, _, _ = length_of_trips(filename, \"Customer\")\n",
    "    _, average_duration_subscribers, _, _ = length_of_trips(filename, \"Subscriber\")\n",
    "    \n",
    "    print(average_duration_customers, average_duration_subscribers)\n",
    "    \n",
    "    if average_duration_customers > average_duration_subscribers:\n",
    "        return \"Customer\"\n",
    "    elif average_duration_subscribers > averages_duration_customers:\n",
    "        return \"Subscriber\"\n",
    "    else:\n",
    "        return \"Same\"\n",
    "\n",
    "\n",
    "print('Chicago:', whose_average_rides_are_longer('./data/Chicago-2016-Summary.csv'))\n",
    "#print('Bay Area', whose_average_rides_are_longer('./examples/BayArea-Y3-Summary.csv'))"
   ]
  },
  {
   "cell_type": "markdown",
   "metadata": {},
   "source": [
    "<a id='visualizations'></a>\n",
    "### Visualizations\n",
    "\n",
    "The last set of values that you computed should have pulled up an interesting result. While the mean trip time for Subscribers is well under 30 minutes, the mean trip time for Customers is actually _above_ 30 minutes! It will be interesting for us to look at how the trip times are distributed. In order to do this, a new library will be introduced here, `matplotlib`. Run the cell below to load the library and to generate an example plot."
   ]
  },
  {
   "cell_type": "code",
   "execution_count": 17,
   "metadata": {},
   "outputs": [
    {
     "data": {
      "image/png": "[encoded data removed]",
      "text/plain": [
       "<matplotlib.figure.Figure at 0x10f0b4748>"
      ]
     },
     "metadata": {},
     "output_type": "display_data"
    }
   ],
   "source": [
    "# load library\n",
    "import matplotlib.pyplot as plt\n",
    "\n",
    "# this is a 'magic word' that allows for plots to be displayed\n",
    "# inline with the notebook. If you want to know more, see:\n",
    "# http://ipython.readthedocs.io/en/stable/interactive/magics.html\n",
    "%matplotlib inline \n",
    "\n",
    "# example histogram, data taken from bay area sample\n",
    "data = [ 7.65,  8.92,  7.42,  5.50, 16.17,  4.20,  8.98,  9.62, 11.48, 14.33,\n",
    "        19.02, 21.53,  3.90,  7.97,  2.62,  2.67,  3.08, 14.40, 12.90,  7.83,\n",
    "        25.12,  8.30,  4.93, 12.43, 10.60,  6.17, 10.88,  4.78, 15.15,  3.53,\n",
    "         9.43, 13.32, 11.72,  9.85,  5.22, 15.10,  3.95,  3.17,  8.78,  1.88,\n",
    "         4.55, 12.68, 12.38,  9.78,  7.63,  6.45, 17.38, 11.90, 11.52,  8.63,]\n",
    "plt.hist(data)\n",
    "plt.title('Distribution of Trip Durations')\n",
    "plt.xlabel('Duration (m)')\n",
    "plt.show()"
   ]
  },
  {
   "cell_type": "markdown",
   "metadata": {},
   "source": [
    "In the above cell, we collected fifty trip times in a list, and passed this list as the first argument to the `.hist()` function. This function performs the computations and creates plotting objects for generating a histogram, but the plot is actually not rendered until the `.show()` function is executed. The `.title()` and `.xlabel()` functions provide some labeling for plot context.\n",
    "\n",
    "You will now use these functions to create a histogram of the trip times for the city you selected in question 4c. Don't separate the Subscribers and Customers for now: just collect all of the trip times and plot them."
   ]
  },
  {
   "cell_type": "code",
   "execution_count": 18,
   "metadata": {
    "collapsed": true
   },
   "outputs": [],
   "source": [
    "## Use this and additional cells to collect all of the trip times as a list ##\n",
    "## and then use pyplot functions to generate a histogram of trip times.     ##\n",
    "\n",
    "def get_duration_list(filename, who_for=\"BOTH\"):\n",
    "    \"\"\"\n",
    "    This function reads in a file with trip data and returns the durations as a list\n",
    "    :param filename: \n",
    "    :return:\n",
    "    \"\"\"\n",
    "    with open(filename, 'r') as f_in:\n",
    "        # set up csv reader object\n",
    "        reader = csv.DictReader(f_in)\n",
    "\n",
    "        durations = []\n",
    "        \n",
    "        for row in reader:\n",
    "            user_type = row['user_type']\n",
    "            \n",
    "            if who_for == \"BOTH\" or who_for == user_type:\n",
    "                duration = float(row['duration'])\n",
    "                durations.append(duration)\n",
    "            \n",
    "        return durations\n"
   ]
  },
  {
   "cell_type": "code",
   "execution_count": 19,
   "metadata": {},
   "outputs": [
    {
     "data": {
      "image/png": "[encoded data removed]",
      "text/plain": [
       "<matplotlib.figure.Figure at 0x11864dda0>"
      ]
     },
     "metadata": {},
     "output_type": "display_data"
    }
   ],
   "source": [
    "# load library\n",
    "import matplotlib.pyplot as plt\n",
    "\n",
    "# this is a 'magic word' that allows for plots to be displayed\n",
    "# inline with the notebook. If you want to know more, see:\n",
    "# http://ipython.readthedocs.io/en/stable/interactive/magics.html\n",
    "%matplotlib inline \n",
    "\n",
    "data = get_duration_list('./data/Chicago-2016-Summary.csv')\n",
    "plt.hist(data)\n",
    "plt.title('Distribution of Trip Durations')\n",
    "plt.xlabel('Duration (m)')\n",
    "plt.show()"
   ]
  },
  {
   "cell_type": "markdown",
   "metadata": {},
   "source": [
    "If you followed the use of the `.hist()` and `.show()` functions exactly like in the example, you're probably looking at a plot that's completely unexpected. The plot consists of one extremely tall bar on the left, maybe a very short second bar, and a whole lot of empty space in the center and right. Take a look at the duration values on the x-axis. This suggests that there are some highly infrequent outliers in the data. Instead of reprocessing the data, you will use additional parameters with the `.hist()` function to limit the range of data that is plotted. Documentation for the function can be found [[here]](https://matplotlib.org/devdocs/api/_as_gen/matplotlib.pyplot.hist.html#matplotlib.pyplot.hist).\n",
    "\n",
    "**Question 5**: Use the parameters of the `.hist()` function to plot the distribution of trip times for the Subscribers in your selected city. Do the same thing for only the Customers. Add limits to the plots so that only trips of duration less than 75 minutes are plotted. As a bonus, set the plots up so that bars are in five-minute wide intervals. For each group, where is the peak of each distribution? How would you describe the shape of each distribution?\n",
    "\n",
    "**Answer**: \n",
    "Each distribution is positively skewed. For customers, the peak distribution is between 15-20 mintues. For subscribers, it's 5-10 minutes."
   ]
  },
  {
   "cell_type": "code",
   "execution_count": 20,
   "metadata": {},
   "outputs": [
    {
     "data": {
      "image/png": "[encoded data removed]",
      "text/plain": [
       "<matplotlib.figure.Figure at 0x10efae9b0>"
      ]
     },
     "metadata": {},
     "output_type": "display_data"
    }
   ],
   "source": [
    "## Use this and additional cells to answer Question 5. ##\n",
    "# load library\n",
    "import matplotlib.pyplot as plt\n",
    "import numpy as np\n",
    "\n",
    "# this is a 'magic word' that allows for plots to be displayed\n",
    "# inline with the notebook. If you want to know more, see:\n",
    "# http://ipython.readthedocs.io/en/stable/interactive/magics.html\n",
    "%matplotlib inline \n",
    "\n",
    "data = get_duration_list('./data/Chicago-2016-Summary.csv', \"Customer\")\n",
    "\n",
    "plt.title('Distribution of Trip Durations (Customers)')\n",
    "plt.xlabel('Duration (m)')\n",
    "\n",
    "# limit the x-axis so we don't see the outliers\n",
    "plt.xlim((0, 75))\n",
    "\n",
    "# dynamically generate the bins from a provided binsize\n",
    "# c.f. https://stackoverflow.com/a/12176344/3199246\n",
    "binwidth = 5\n",
    "plt.hist(data, bins=np.arange(min(data), max(data) + binwidth, binwidth))\n",
    "\n",
    "plt.show()\n"
   ]
  },
  {
   "cell_type": "code",
   "execution_count": 21,
   "metadata": {},
   "outputs": [
    {
     "data": {
      "image/png": "[encoded data removed]",
      "text/plain": [
       "<matplotlib.figure.Figure at 0x10efae550>"
      ]
     },
     "metadata": {},
     "output_type": "display_data"
    }
   ],
   "source": [
    "## Use this and additional cells to answer Question 5. ##\n",
    "# load library\n",
    "import matplotlib.pyplot as plt\n",
    "import numpy as np\n",
    "\n",
    "# this is a 'magic word' that allows for plots to be displayed\n",
    "# inline with the notebook. If you want to know more, see:\n",
    "# http://ipython.readthedocs.io/en/stable/interactive/magics.html\n",
    "%matplotlib inline \n",
    "\n",
    "data = get_duration_list('./data/Chicago-2016-Summary.csv', \"Subscriber\")\n",
    "\n",
    "plt.title('Distribution of Trip Durations (Subscribers)')\n",
    "plt.xlabel('Duration (m)')\n",
    "\n",
    "# limit the x-axis so we don't see the outliers\n",
    "plt.xlim((0, 75))\n",
    "\n",
    "# dynamically generate the bins from a provided binsize\n",
    "# c.f. https://stackoverflow.com/a/12176344/3199246\n",
    "binwidth = 5\n",
    "plt.hist(data, bins=np.arange(min(data), max(data) + binwidth, binwidth))\n",
    "\n",
    "plt.show()\n"
   ]
  },
  {
   "cell_type": "markdown",
   "metadata": {
    "collapsed": true
   },
   "source": [
    "<a id='eda_continued'></a>\n",
    "## Performing Your Own Analysis\n",
    "\n",
    "So far, you've performed an initial exploration into the data available. You have compared the relative volume of trips made between three U.S. cities and the ratio of trips made by Subscribers and Customers. For one of these cities, you have investigated differences between Subscribers and Customers in terms of how long a typical trip lasts. Now it is your turn to continue the exploration in a direction that you choose. Here are a few suggestions for questions to explore:\n",
    "\n",
    "- How does ridership differ by month or season? Which month / season has the highest ridership? Does the ratio of Subscriber trips to Customer trips change depending on the month or season?\n",
    "- Is the pattern of ridership different on the weekends versus weekdays? On what days are Subscribers most likely to use the system? What about Customers? Does the average duration of rides change depending on the day of the week?\n",
    "- During what time of day is the system used the most? Is there a difference in usage patterns for Subscribers and Customers?\n",
    "\n",
    "If any of the questions you posed in your answer to question 1 align with the bullet points above, this is a good opportunity to investigate one of them. As part of your investigation, you will need to create a visualization. If you want to create something other than a histogram, then you might want to consult the [Pyplot documentation](https://matplotlib.org/devdocs/api/pyplot_summary.html). In particular, if you are plotting values across a categorical variable (e.g. city, user type), a bar chart will be useful. The [documentation page for `.bar()`](https://matplotlib.org/devdocs/api/_as_gen/matplotlib.pyplot.bar.html#matplotlib.pyplot.bar) includes links at the bottom of the page with examples for you to build off of for your own use.\n",
    "\n",
    "**Question 6**: Continue the investigation by exploring another question that could be answered by the data available. Document the question you want to explore below. Your investigation should involve at least two variables and should compare at least two groups. You should also use at least one visualization as part of your explorations.\n",
    "\n",
    "**Answer**: (see next section)"
   ]
  },
  {
   "cell_type": "markdown",
   "metadata": {},
   "source": [
    "# Chicago Bike Share Data Examination #\n",
    "\n",
    "I wanted to explore how often riders dropped off their bikes at the same station where they picked it up. I wanted to explore this in a couple ways, including by gender.\n",
    "\n",
    "I chose Chicago because I lived there for many years, and the Washington DC data did not include gender.\n",
    "\n",
    "To do this, I wrote an additional function for condensing the data. In this function, I pre-computed if the station was the same and if the ride occurred on a weekend.\n",
    "\n",
    "What I quickly found was that most riders dropped off at a different station. Though I did explore this in a couple different ways, I then added the riders' ages to the data and did a final exploration of the age and genders of the riders, without regard to station dropoff.\n",
    "\n",
    "All this was done with the 2016 Chicago data."
   ]
  },
  {
   "cell_type": "markdown",
   "metadata": {},
   "source": [
    "#### Helper functions ####"
   ]
  },
  {
   "cell_type": "code",
   "execution_count": 25,
   "metadata": {},
   "outputs": [
    {
     "name": "stdout",
     "output_type": "stream",
     "text": [
      "\n",
      "City: Chicago\n",
      "OrderedDict([('is_same_station', 'False'),\n",
      "             ('is_weekend', 'False'),\n",
      "             ('duration', '15.433333333333334'),\n",
      "             ('user_type', 'Subscriber'),\n",
      "             ('gender', 'Male'),\n",
      "             ('birthyear', '1990'),\n",
      "             ('age', '27')])\n"
     ]
    }
   ],
   "source": [
    "def station_ids(datum, city):\n",
    "    \"\"\"\n",
    "    Takes as input a dictionary containing info about a single trip (datum) and\n",
    "    its origin city (city) and returns the ids of the start and end stations.\n",
    "    \"\"\"\n",
    "\n",
    "    if city == 'NYC' or city == 'Chicago':\n",
    "        from_station_id = datum['from_station_id']\n",
    "        to_station_id = datum['to_station_id']\n",
    "    elif city == 'Washington':\n",
    "        from_station_id = datum['Start station number']\n",
    "        to_station_id = datum['End station number']\n",
    "\n",
    "    return from_station_id, to_station_id\n",
    "\n",
    "\n",
    "def is_weekend(datum, city):\n",
    "    \"\"\"\n",
    "    Takes as input a dictionary containing info about a single trip (datum) and\n",
    "    its origin city (city) and returns whether the trip occurred on a weekend\n",
    "\n",
    "    :param datum:\n",
    "    :param city:\n",
    "    :return: True if on a weekend, False otherwise\n",
    "    \"\"\"\n",
    "\n",
    "    if city == 'NYC':\n",
    "        start = datum['starttime']\n",
    "        d = datetime.strptime(start, '%m/%d/%Y %H:%M:%S')\n",
    "    elif city == 'Chicago':\n",
    "        start = datum['starttime']\n",
    "        d = datetime.strptime(start, '%m/%d/%Y %H:%M')\n",
    "    elif city == 'Washington':\n",
    "        start = datum['Start date']\n",
    "        d = datetime.strptime(start, '%m/%d/%Y %H:%M')\n",
    "\n",
    "    weekday = d.weekday()\n",
    "\n",
    "    if weekday == 5 or weekday == 6:\n",
    "        return True\n",
    "    else:\n",
    "        return False\n",
    "\n",
    "\n",
    "def condense_data_for_station_variance(in_file, out_file, city):\n",
    "    \"\"\"\n",
    "    This function takes full data from the specified input file\n",
    "    and writes the condensed data to a specified output file. The city\n",
    "    argument determines how the input file will be parsed.\n",
    "    :param in_file:\n",
    "    :param out_file:\n",
    "    :param city:\n",
    "    :return:\n",
    "    \"\"\"\n",
    "\n",
    "    # the age may be off by a year, depending on when the rider's actual birthday is\n",
    "    # compared to when this is run\n",
    "    current_year = datetime.now().year\n",
    "\n",
    "    with open(out_file, 'w') as f_out, open(in_file, 'r') as f_in:\n",
    "        # set up csv DictWriter object - writer requires column names for the\n",
    "        # first row as the \"fieldnames\" argument\n",
    "        out_colnames = ['is_same_station', 'is_weekend', 'duration', 'user_type', 'gender', 'birthyear', 'age']\n",
    "        trip_writer = csv.DictWriter(f_out, fieldnames=out_colnames)\n",
    "        trip_writer.writeheader()\n",
    "\n",
    "        trip_reader = csv.DictReader(f_in)\n",
    "\n",
    "        # collect data from and process each row\n",
    "        for row in trip_reader:\n",
    "            # set up a dictionary to hold the values for the cleaned and trimmed\n",
    "            # data point\n",
    "            new_point = {}\n",
    "\n",
    "            duration = duration_in_mins(row, city)\n",
    "            weekend = is_weekend(row, city)\n",
    "            user_type = type_of_user(row, city)\n",
    "            from_station_id, to_station_id = station_ids(row, city)\n",
    "\n",
    "            birthyear = row['birthyear']\n",
    "\n",
    "            if birthyear:\n",
    "                new_point['birthyear'] = birthyear\n",
    "                new_point['age'] = current_year - int(birthyear)\n",
    "\n",
    "            new_point['is_same_station'] = from_station_id == to_station_id\n",
    "            new_point['duration'] = duration\n",
    "            new_point['is_weekend'] = weekend\n",
    "            new_point['user_type'] = user_type\n",
    "            new_point['gender'] = row['gender']\n",
    "\n",
    "            trip_writer.writerow(new_point)\n",
    "\n",
    "\n",
    "# city_info = {'Chicago': {'in_file': './data/chi_ex.csv',\n",
    "#                          'out_file': './data/chiex-variance.csv'}}\n",
    "\n",
    "city_info = {'Chicago': {'in_file': './data/Chicago-Divvy-2016.csv',\n",
    "                         'out_file': './data/Chicago-station-variance.csv'}}\n",
    "\n",
    "for city, filenames in city_info.items():\n",
    "    in_file = filenames['in_file']\n",
    "    out_file = filenames['out_file']\n",
    "    condense_data_for_station_variance(in_file, out_file, city)\n",
    "    print_first_point(out_file)"
   ]
  },
  {
   "cell_type": "code",
   "execution_count": 26,
   "metadata": {
    "collapsed": true
   },
   "outputs": [],
   "source": [
    "import numpy as np\n",
    "import matplotlib.pyplot as plt"
   ]
  },
  {
   "cell_type": "code",
   "execution_count": 27,
   "metadata": {
    "collapsed": true
   },
   "outputs": [],
   "source": [
    "\n",
    "def read_data_for_variance_analysis(filename):\n",
    "    \"\"\"\n",
    "    reads in the data for analyzing variance of station pickup/dropoff\n",
    "    :param filename:\n",
    "    :return:\n",
    "    \"\"\"\n",
    "    with open(filename, 'r') as f_in:\n",
    "        # set up csv reader object\n",
    "        reader = csv.DictReader(f_in)\n",
    "\n",
    "        items = []\n",
    "\n",
    "        for row in reader:\n",
    "            new_item = {'is_same_station': row['is_same_station'],\n",
    "                        'is_weekend': row['is_weekend'],\n",
    "                        'duration': float(row['duration']),\n",
    "                        'user_type': row['user_type'],\n",
    "                        'gender': row['gender'],\n",
    "                        'birthyear': row['birthyear'],\n",
    "                        'age': row['age']}\n",
    "\n",
    "            items.append(new_item)\n",
    "\n",
    "    return items\n",
    "\n",
    "\n",
    "def str_to_bool(s):\n",
    "    \"\"\"\n",
    "    csv files have strings for True and False, this converts them to bools.\n",
    "    :param s:\n",
    "    :return:\n",
    "    \"\"\"\n",
    "    if s == 'True':\n",
    "        return True\n",
    "    elif s == 'False':\n",
    "        return False\n",
    "    else:\n",
    "        raise ValueError\n",
    "\n",
    "\n",
    "def convert_ratio_to_pct_for_display(value):\n",
    "    \"\"\"\n",
    "    label function for turning a ratio into a % value to 1 decimal place\n",
    "    :param value:\n",
    "    :return:\n",
    "    \"\"\"\n",
    "    return \"{:.1f}%\".format(value * 100)\n",
    "\n",
    "\n",
    "def get_ratio_same_station_dropoff(rides, include_weekend_only=False, include_female_only=False, include_user_types=\"BOTH\"):\n",
    "    \"\"\"\n",
    "    given data for rides, return the ratio for which rides concluded at the start station\n",
    "    :param rides:   the ride data\n",
    "    :param include_weekend_only: should the ratio examine the rides on the weekend only\n",
    "    :param include_female_only:    should the ratio examine the rides for females only\n",
    "    :param include_user_types:  the type of riders to consider, either Subscriber, Customer, or BOTH.\n",
    "    :return:\n",
    "    \"\"\"\n",
    "    same_station_count = 0\n",
    "    diff_station_count = 0\n",
    "\n",
    "    for ride in rides:\n",
    "        is_same_station = str_to_bool(ride.get('is_same_station', 'False'))\n",
    "        is_weekend = str_to_bool(ride.get('is_weekend', 'False'))\n",
    "        gender = ride.get('gender', 'Male')\n",
    "        user_type = ride.get('user_type')\n",
    "\n",
    "        ride_filtered_out = False\n",
    "\n",
    "        if include_weekend_only and not is_weekend:\n",
    "            ride_filtered_out = True\n",
    "\n",
    "        if include_female_only and gender != 'Male':\n",
    "            ride_filtered_out = True\n",
    "\n",
    "        if include_user_types != 'BOTH':\n",
    "            ride_filtered_out = user_type == include_user_types\n",
    "\n",
    "        if not ride_filtered_out:\n",
    "            if is_same_station:\n",
    "                same_station_count += 1\n",
    "            else:\n",
    "                diff_station_count += 1\n",
    "\n",
    "    if same_station_count == 0 or diff_station_count == 0:\n",
    "        return 0\n",
    "\n",
    "    return same_station_count / (same_station_count + diff_station_count)\n",
    "\n",
    "\n",
    "def get_datapoints_gender_age(rides):\n",
    "    \"\"\"\n",
    "    gets all the datapoints, but just gender and age, as a list. excludes those w/ missing data\n",
    "    :param rides:\n",
    "    :return:\n",
    "    \"\"\"\n",
    "    data = []\n",
    "\n",
    "    for ride in rides:\n",
    "        gender = ride.get('gender')\n",
    "        age = ride.get('age')\n",
    "\n",
    "        if gender and age:\n",
    "            data.append({'age': age, 'gender': gender})\n",
    "\n",
    "    return data\n",
    "\n",
    "\n",
    "def put_gender_age_datapoints_into_bins(data, binsize=5):\n",
    "    \"\"\"\n",
    "    given datapoints with age and gender, separate into bins separated by gender and\n",
    "    age bins of 5 years (by default). Ignores any ages > 100.\n",
    "    :param data:    the ride data with age and gender\n",
    "    :param binsize: the size, in years, of each bin. we'll plot ages 0-100\n",
    "    :return:\n",
    "    \"\"\"\n",
    "\n",
    "    # by default, we'll do 20 bins.\n",
    "    num_bins = 100 // binsize\n",
    "\n",
    "    # each bin is 5 years of age, by default. we'll toss any ages > 100. these will represent\n",
    "    # counts of ages for that bin.\n",
    "    male_bins = [0] * num_bins\n",
    "    female_bins = [0] * num_bins\n",
    "\n",
    "    for datum in data:\n",
    "        age = int(datum['age'])\n",
    "        gender = datum['gender']\n",
    "\n",
    "        if 0 < age <= 100:\n",
    "            bin_number = age // binsize\n",
    "            if gender == 'Male':\n",
    "                male_bins[bin_number] += 1\n",
    "            elif gender == 'Female':\n",
    "                female_bins[bin_number] += 1\n",
    "\n",
    "    return (male_bins, female_bins)\n",
    "\n",
    "\n",
    "# rides = read_data_for_variance_analysis('data/chiex-variance.csv')\n",
    "# rides = read_data_for_variance_analysis('data/Chicago-station-variance.csv')\n",
    "# pprint(rides)\n",
    "\n",
    "# ratio_all = get_ratio_same_station_dropoff(rides)\n",
    "# print('all:', convert_ratio_to_pct_for_display(ratio_all))\n",
    "#\n",
    "# ratio_weekend_only = get_ratio_same_station_dropoff(rides, True)\n",
    "# print('weekend only', convert_ratio_to_pct_for_display(ratio_weekend_only))\n",
    "#\n",
    "# ratio_female_only = get_ratio_same_station_dropoff(rides, False, True)\n",
    "# print('female only', convert_ratio_to_pct_for_display(ratio_female_only))\n",
    "#\n",
    "# ratio_subscribers_only = get_ratio_same_station_dropoff(rides, False, False, 'Subscriber')\n",
    "# print('subscribers only', convert_ratio_to_pct_for_display(ratio_subscribers_only))\n",
    "#\n",
    "# ratio_customers_only = get_ratio_same_station_dropoff(rides, False, False, 'Customer')\n",
    "# print('customers only', convert_ratio_to_pct_for_display(ratio_customers_only))\n",
    "\n",
    "# pointdata = get_datapoints_gender_age(rides)\n",
    "# male_bins, female_bins = put_gender_age_datapoints_into_bins(pointdata, 10)\n",
    "#\n",
    "# print(male_bins)\n",
    "# print(female_bins)"
   ]
  },
  {
   "cell_type": "markdown",
   "metadata": {},
   "source": [
    "## Dropping off at the same station? ##\n",
    "\n",
    "For Chicago riders, what proportion of users drop off their bike at the same station they picked it up?"
   ]
  },
  {
   "cell_type": "code",
   "execution_count": 28,
   "metadata": {
    "collapsed": true
   },
   "outputs": [],
   "source": [
    "rides = read_data_for_variance_analysis('data/Chicago-station-variance.csv')"
   ]
  },
  {
   "cell_type": "code",
   "execution_count": 29,
   "metadata": {},
   "outputs": [
    {
     "data": {
      "image/png": "[encoded data removed]",
      "text/plain": [
       "<matplotlib.figure.Figure at 0x11860c4a8>"
      ]
     },
     "metadata": {},
     "output_type": "display_data"
    }
   ],
   "source": [
    "# c.f. https://matplotlib.org/examples/pie_and_polar_charts/pie_demo_features.html\n",
    "all_ratio = get_ratio_same_station_dropoff(rides)\n",
    "labels = 'Same Station', 'Different Station'\n",
    "data = [all_ratio, 1 - all_ratio]\n",
    "explode = (0.10, 0)\n",
    "\n",
    "_, ax1 = plt.subplots()\n",
    "ax1.pie(data, explode=explode, labels=labels, autopct='%1.1f%%', startangle=45)\n",
    "ax1.axis('equal')  # Equal aspect ratio ensures that pie is drawn as a circle.\n",
    "\n",
    "plt.title('Where riders drop off bikes')\n",
    "plt.show()"
   ]
  },
  {
   "cell_type": "markdown",
   "metadata": {},
   "source": [
    "What proportion of users drop off their bike at the same station on weekends?"
   ]
  },
  {
   "cell_type": "code",
   "execution_count": 31,
   "metadata": {},
   "outputs": [
    {
     "data": {
      "image/png": "[encoded data removed]",
      "text/plain": [
       "<matplotlib.figure.Figure at 0x11bbf9390>"
      ]
     },
     "metadata": {},
     "output_type": "display_data"
    }
   ],
   "source": [
    "weekend_ratio = get_ratio_same_station_dropoff(rides, True)\n",
    "labels = 'Same Station', 'Different Station'\n",
    "data = [weekend_ratio, 1 - weekend_ratio]\n",
    "explode = (0.10, 0)\n",
    "\n",
    "_, ax1 = plt.subplots()\n",
    "ax1.pie(data, explode=explode, labels=labels, autopct='%1.1f%%', startangle=35)\n",
    "ax1.axis('equal')  # Equal aspect ratio ensures that pie is drawn as a circle.\n",
    "\n",
    "plt.title('Where riders drop off bikes on weekends')\n",
    "plt.show()"
   ]
  },
  {
   "cell_type": "markdown",
   "metadata": {},
   "source": [
    "What about subscribers vs customers, dropping off at the same station where they picked up?"
   ]
  },
  {
   "cell_type": "code",
   "execution_count": 32,
   "metadata": {},
   "outputs": [
    {
     "data": {
      "image/png": "[encoded data removed]",
      "text/plain": [
       "<matplotlib.figure.Figure at 0x11925b7f0>"
      ]
     },
     "metadata": {},
     "output_type": "display_data"
    }
   ],
   "source": [
    "ratio_subscribers_only = get_ratio_same_station_dropoff(rides, False, False, 'Subscriber')\n",
    "ratio_customers_only = get_ratio_same_station_dropoff(rides, False, False, 'Customer')\n",
    "\n",
    "total = ratio_subscribers_only + ratio_customers_only\n",
    "\n",
    "subscriber_ratio_100 = ratio_subscribers_only / total\n",
    "customer_ratio_100 = ratio_customers_only / total\n",
    "\n",
    "labels = 'Subscribers', 'Customers'\n",
    "data = [subscriber_ratio_100, customer_ratio_100]\n",
    "\n",
    "_, ax1 = plt.subplots()\n",
    "ax1.pie(data, labels=labels, autopct='%1.1f%%', startangle=90)\n",
    "ax1.axis('equal')\n",
    "\n",
    "plt.title('Who is dropping off at their pickup station?')\n",
    "plt.show()"
   ]
  },
  {
   "cell_type": "markdown",
   "metadata": {},
   "source": [
    "## Who is Riding? ##\n",
    "\n",
    "For Chicago riders, how old are the men and women?"
   ]
  },
  {
   "cell_type": "code",
   "execution_count": 33,
   "metadata": {
    "collapsed": true
   },
   "outputs": [],
   "source": [
    "# c.f. https://pythonspot.com/en/matplotlib-bar-chart/\n",
    "# c.f. https://matplotlib.org/examples/api/barchart_demo.html\n",
    "\n",
    "# data to plot\n",
    "pointdata = get_datapoints_gender_age(rides)\n",
    "male_bins, female_bins = put_gender_age_datapoints_into_bins(pointdata)\n",
    "\n",
    "num_bins = max(len(male_bins), len(female_bins))\n",
    "\n",
    "# create the labels\n",
    "range_start = 0\n",
    "range_end = 100\n",
    "step_size = (range_end - range_start) // num_bins\n",
    "labels = np.arange(range_start, range_end, step_size)"
   ]
  },
  {
   "cell_type": "code",
   "execution_count": 34,
   "metadata": {},
   "outputs": [
    {
     "data": {
      "image/png": "[encoded data removed]",
      "text/plain": [
       "<matplotlib.figure.Figure at 0x11918a358>"
      ]
     },
     "metadata": {},
     "output_type": "display_data"
    }
   ],
   "source": [
    "# create plot\n",
    "_, ax = plt.subplots()\n",
    "index = np.arange(num_bins)\n",
    "bar_width = 0.35\n",
    "opacity = 0.8\n",
    "\n",
    "rects1 = plt.bar(index, male_bins, bar_width,\n",
    "                 alpha=opacity,\n",
    "                 color='b',\n",
    "                 label='Males')\n",
    "\n",
    "rects2 = plt.bar(index + bar_width, female_bins, bar_width,\n",
    "                 alpha=opacity,\n",
    "                 color='g',\n",
    "                 label='Females')\n",
    "\n",
    "plt.xlabel('Ages')\n",
    "plt.ylabel('Number of Trips')\n",
    "plt.title('Riders by Age and Gender')\n",
    "plt.xticks(index + bar_width, labels)\n",
    "plt.legend()\n",
    "\n",
    "plt.tight_layout()\n",
    "plt.show()\n"
   ]
  },
  {
   "cell_type": "markdown",
   "metadata": {},
   "source": [
    "<a id='conclusions'></a>\n",
    "## Conclusions\n",
    "\n",
    "Congratulations on completing the project! This is only a sampling of the data analysis process: from generating questions, wrangling the data, and to exploring the data. Normally, at this point in the data analysis process, you might want to draw conclusions about the data by performing a statistical test or fitting the data to a model for making predictions. There are also a lot of potential analyses that could be performed on the data which are not possible with only the data provided. For example, detailed location data has not been investigated. Where are the most commonly used docks? What are the most common routes? As another example, weather has potential to have a large impact on daily ridership. How much is ridership impacted when there is rain or snow? Are subscribers or customers affected more by changes in weather?\n",
    "\n",
    "**Question 7**: Putting the bike share data aside, think of a topic or field of interest where you would like to be able to apply the techniques of data science. What would you like to be able to learn from your chosen subject?\n",
    "\n",
    "**Answer**: \n",
    "I would like to explore the effect that supplements have on people's health.\n",
    "\n",
    "Human bodies are extraordinarily complex, and there are a number of obvious factors (diet, exercise, stress, genetics) that contribute to health.\n",
    "\n",
    "How is health measured, both from a near-term and long-term perspective? How can we introduce interventions and account for other factors in order to measure the success of those interventions?\n",
    "\n",
    "What I've noted in the literature is that intervention studies tend to be short term, and long-term studies tend to be reserved to either observational studies or meta-studies.\n",
    "\n",
    "For example, I've seen no long-term studies discussing the effects of long-term Vitamin K2 supplemetation. But for this example, there are likely studies of populations that obtain K2 through diet. It's possible there is enough data there to draw conclusions through application of data science.\n",
    "\n",
    "\n",
    "> **Tip**: If we want to share the results of our analysis with others, we aren't limited to giving them a copy of the jupyter Notebook (.ipynb) file. We can also export the Notebook output in a form that can be opened even for those without Python installed. From the **File** menu in the upper left, go to the **Download as** submenu. You can then choose a different format that can be viewed more generally, such as HTML (.html) or\n",
    "PDF (.pdf). You may need additional packages or software to perform these exports."
   ]
  },
  {
   "cell_type": "code",
   "execution_count": null,
   "metadata": {
    "collapsed": true
   },
   "outputs": [],
   "source": []
  }
 ],
 "metadata": {
  "anaconda-cloud": {},
  "kernelspec": {
   "display_name": "Python 3",
   "language": "python",
   "name": "python3"
  },
  "language_info": {
   "codemirror_mode": {
    "name": "ipython",
    "version": 3
   },
   "file_extension": ".py",
   "mimetype": "text/x-python",
   "name": "python",
   "nbconvert_exporter": "python",
   "pygments_lexer": "ipython3",
   "version": "3.6.1"
  }
 },
 "nbformat": 4,
 "nbformat_minor": 1
}
