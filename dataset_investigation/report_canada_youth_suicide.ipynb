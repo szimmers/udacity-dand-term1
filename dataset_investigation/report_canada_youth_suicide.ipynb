{
 "cells": [
  {
   "cell_type": "markdown",
   "metadata": {},
   "source": [
    "# Project: Youth Suicide in Canada\n",
    "\n",
    "## What factors may contribute?\n",
    "\n",
    "## Table of Contents\n",
    "<ul>\n",
    "<li><a href=\"#intro\">Introduction</a></li>\n",
    "<li><a href=\"#wrangling\">Data Wrangling</a></li>\n",
    "<li><a href=\"#eda\">Exploratory Data Analysis</a></li>\n",
    "<li><a href=\"#conclusions\">Conclusions</a></li>\n",
    "</ul>"
   ]
  },
  {
   "cell_type": "markdown",
   "metadata": {},
   "source": [
    "<a id='intro'></a>\n",
    "## Introduction\n",
    "\n",
    "Gapminder World (<a href=\"http://www.gapminder.org/\">link</a>) provides a number of datasets about how people live their lives in different countries, tracked across years, and for a number of different indicators.\n",
    "\n",
    "As a resident of Canada, I wanted to investigate what factors may contribute to suicide among Canadian youth. Gapminder provides suicide rates for youth ages 0-14.\n",
    "\n",
    "I examined additional datasets to see if there was any correlation to suicide rates:\n",
    "\n",
    "<ul>\n",
    "<li>Sugar consumption</li>\n",
    "<li>Government and civil society aid</li>\n",
    "<li>Electricity use</li>\n",
    "</ul>\n",
    "\n",
    "These data sets, like the suicide rates data set, have several decades of data available for Canada.\n",
    "\n",
    "Specifically, I wondered:\n",
    "\n",
    "<ol>\n",
    "<li>Does increased sugar consumption increase suicide rates?</li>\n",
    "<li>Does increased government and civil society aid decrease suicide rates?</li>\n",
    "<li>Is there a correlation between consumption of electricy and suicide rates?</li>\n",
    "<li>Why has the suicide rate dipped since its peak in the 1990s?</li>\n",
    "</ol>"
   ]
  },
  {
   "cell_type": "code",
   "execution_count": 30,
   "metadata": {
    "collapsed": true
   },
   "outputs": [],
   "source": [
    "import pandas as pd\n",
    "import numpy as np\n",
    "import matplotlib.pyplot as plt\n",
    "\n",
    "% matplotlib inline"
   ]
  },
  {
   "cell_type": "markdown",
   "metadata": {},
   "source": [
    "<a id='wrangling'></a>\n",
    "## Data Wrangling\n",
    "\n",
    "> **Tip**: In this section of the report, you will load in the data, check for cleanliness, and then trim and clean your dataset for analysis. Make sure that you document your steps carefully and justify your cleaning decisions.\n",
    "\n",
    "### General Properties"
   ]
  },
  {
   "cell_type": "code",
   "execution_count": 31,
   "metadata": {
    "collapsed": true
   },
   "outputs": [],
   "source": [
    "# Load your data and print out a few lines. Perform operations to inspect data\n",
    "#   types and look for instances of missing or possibly errant data.\n"
   ]
  },
  {
   "cell_type": "markdown",
   "metadata": {},
   "source": [
    "Each Gapminder dataset can be downloaded as an Excel file. The Excel file typically has a number of sheets, one of which contains the actual data. For each, I exported the Excel file as CSV and renamed the data sheet to indicate what data it contained. Now each can be loaded into its own dataframe."
   ]
  },
  {
   "cell_type": "code",
   "execution_count": 32,
   "metadata": {
    "collapsed": true
   },
   "outputs": [],
   "source": [
    "# suicides age 0-14 (Canada) is the control variable\n",
    "df_control = pd.read_csv('source_data/csv/suicides0-14.csv')\n",
    "\n",
    "# these are the data sets we'll examine to see if they are correlated w/ the suicide rates\n",
    "\n",
    "# Sugar per person (g per day)\n",
    "df_sugar = pd.read_csv('source_data/csv/sugar_consumption.csv')\n",
    "\n",
    "# Government and civil society aid (% of total aid)\n",
    "df_aid = pd.read_csv('source_data/csv/aid.csv')\n",
    "\n",
    "# Electricity consumption, per capita (kWh)\n",
    "df_elec = pd.read_csv('source_data/csv/electricity_consumption.csv')"
   ]
  },
  {
   "cell_type": "markdown",
   "metadata": {},
   "source": [
    "### Data Cleaning\n",
    "\n",
    "The format of the Gapminder data was consistent across data sets. Countries were represented as rows, and years as columns. Because I was concentrating on Canada, I wanted to extract the Canada row, then transpose the dataframe in order to have the years as the rows. That way, when the dataframes were combined, I could have the different datasets as the columns."
   ]
  },
  {
   "cell_type": "markdown",
   "metadata": {},
   "source": [
    "#### Column Renaming\n",
    "\n",
    "The datasets do not label the country column with \"country,\" but rather the name of the dataset. In order to make it easier to extract the Canada data, I renamed the column to \"country\" in all the datasets. Here is an example of the suicide data prior to the rename:"
   ]
  },
  {
   "cell_type": "code",
   "execution_count": 33,
   "metadata": {},
   "outputs": [
    {
     "data": {
      "text/html": [
       "<div>\n",
       "<style>\n",
       "    .dataframe thead tr:only-child th {\n",
       "        text-align: right;\n",
       "    }\n",
       "\n",
       "    .dataframe thead th {\n",
       "        text-align: left;\n",
       "    }\n",
       "\n",
       "    .dataframe tbody tr th {\n",
       "        vertical-align: top;\n",
       "    }\n",
       "</style>\n",
       "<table border=\"1\" class=\"dataframe\">\n",
       "  <thead>\n",
       "    <tr style=\"text-align: right;\">\n",
       "      <th></th>\n",
       "      <th>Suicide 0-14 all age adj</th>\n",
       "      <th>1950</th>\n",
       "      <th>1951</th>\n",
       "      <th>1952</th>\n",
       "      <th>1953</th>\n",
       "      <th>1954</th>\n",
       "      <th>1955</th>\n",
       "      <th>1956</th>\n",
       "      <th>1957</th>\n",
       "      <th>1958</th>\n",
       "      <th>...</th>\n",
       "      <th>1999</th>\n",
       "      <th>2000</th>\n",
       "      <th>2001</th>\n",
       "      <th>2002</th>\n",
       "      <th>2003</th>\n",
       "      <th>2004</th>\n",
       "      <th>2005</th>\n",
       "      <th>2006</th>\n",
       "      <th>2007</th>\n",
       "      <th>2008</th>\n",
       "    </tr>\n",
       "  </thead>\n",
       "  <tbody>\n",
       "    <tr>\n",
       "      <th>0</th>\n",
       "      <td>Argentina</td>\n",
       "      <td>NaN</td>\n",
       "      <td>NaN</td>\n",
       "      <td>NaN</td>\n",
       "      <td>NaN</td>\n",
       "      <td>NaN</td>\n",
       "      <td>NaN</td>\n",
       "      <td>NaN</td>\n",
       "      <td>NaN</td>\n",
       "      <td>NaN</td>\n",
       "      <td>...</td>\n",
       "      <td>0.402384</td>\n",
       "      <td>0.379721</td>\n",
       "      <td>0.512450</td>\n",
       "      <td>0.576616</td>\n",
       "      <td>0.594624</td>\n",
       "      <td>0.648458</td>\n",
       "      <td>0.695720</td>\n",
       "      <td>0.617807</td>\n",
       "      <td>0.751746</td>\n",
       "      <td>NaN</td>\n",
       "    </tr>\n",
       "    <tr>\n",
       "      <th>1</th>\n",
       "      <td>Australia</td>\n",
       "      <td>0.282023</td>\n",
       "      <td>0.1629</td>\n",
       "      <td>0.0</td>\n",
       "      <td>0.100662</td>\n",
       "      <td>0.142596</td>\n",
       "      <td>0.044587</td>\n",
       "      <td>0.168712</td>\n",
       "      <td>0.116169</td>\n",
       "      <td>0.108778</td>\n",
       "      <td>...</td>\n",
       "      <td>0.397298</td>\n",
       "      <td>0.221465</td>\n",
       "      <td>0.194630</td>\n",
       "      <td>0.192489</td>\n",
       "      <td>0.333794</td>\n",
       "      <td>0.188775</td>\n",
       "      <td>NaN</td>\n",
       "      <td>0.164442</td>\n",
       "      <td>NaN</td>\n",
       "      <td>NaN</td>\n",
       "    </tr>\n",
       "    <tr>\n",
       "      <th>2</th>\n",
       "      <td>Austria</td>\n",
       "      <td>NaN</td>\n",
       "      <td>NaN</td>\n",
       "      <td>NaN</td>\n",
       "      <td>NaN</td>\n",
       "      <td>NaN</td>\n",
       "      <td>0.301751</td>\n",
       "      <td>0.255933</td>\n",
       "      <td>0.460640</td>\n",
       "      <td>0.461944</td>\n",
       "      <td>...</td>\n",
       "      <td>0.211056</td>\n",
       "      <td>0.558918</td>\n",
       "      <td>0.138358</td>\n",
       "      <td>0.273217</td>\n",
       "      <td>0.203178</td>\n",
       "      <td>0.134750</td>\n",
       "      <td>0.270398</td>\n",
       "      <td>0.068317</td>\n",
       "      <td>0.138712</td>\n",
       "      <td>0.283946</td>\n",
       "    </tr>\n",
       "    <tr>\n",
       "      <th>3</th>\n",
       "      <td>Azerbaijan</td>\n",
       "      <td>NaN</td>\n",
       "      <td>NaN</td>\n",
       "      <td>NaN</td>\n",
       "      <td>NaN</td>\n",
       "      <td>NaN</td>\n",
       "      <td>NaN</td>\n",
       "      <td>NaN</td>\n",
       "      <td>NaN</td>\n",
       "      <td>NaN</td>\n",
       "      <td>...</td>\n",
       "      <td>0.000000</td>\n",
       "      <td>0.035547</td>\n",
       "      <td>NaN</td>\n",
       "      <td>NaN</td>\n",
       "      <td>NaN</td>\n",
       "      <td>NaN</td>\n",
       "      <td>NaN</td>\n",
       "      <td>NaN</td>\n",
       "      <td>NaN</td>\n",
       "      <td>NaN</td>\n",
       "    </tr>\n",
       "    <tr>\n",
       "      <th>4</th>\n",
       "      <td>Bahrain</td>\n",
       "      <td>NaN</td>\n",
       "      <td>NaN</td>\n",
       "      <td>NaN</td>\n",
       "      <td>NaN</td>\n",
       "      <td>NaN</td>\n",
       "      <td>NaN</td>\n",
       "      <td>NaN</td>\n",
       "      <td>NaN</td>\n",
       "      <td>NaN</td>\n",
       "      <td>...</td>\n",
       "      <td>0.000000</td>\n",
       "      <td>0.000000</td>\n",
       "      <td>0.570722</td>\n",
       "      <td>NaN</td>\n",
       "      <td>NaN</td>\n",
       "      <td>NaN</td>\n",
       "      <td>NaN</td>\n",
       "      <td>NaN</td>\n",
       "      <td>NaN</td>\n",
       "      <td>NaN</td>\n",
       "    </tr>\n",
       "  </tbody>\n",
       "</table>\n",
       "<p>5 rows × 60 columns</p>\n",
       "</div>"
      ],
      "text/plain": [
       "  Suicide 0-14 all age adj      1950    1951  1952      1953      1954  \\\n",
       "0                Argentina       NaN     NaN   NaN       NaN       NaN   \n",
       "1                Australia  0.282023  0.1629   0.0  0.100662  0.142596   \n",
       "2                  Austria       NaN     NaN   NaN       NaN       NaN   \n",
       "3               Azerbaijan       NaN     NaN   NaN       NaN       NaN   \n",
       "4                  Bahrain       NaN     NaN   NaN       NaN       NaN   \n",
       "\n",
       "       1955      1956      1957      1958    ...         1999      2000  \\\n",
       "0       NaN       NaN       NaN       NaN    ...     0.402384  0.379721   \n",
       "1  0.044587  0.168712  0.116169  0.108778    ...     0.397298  0.221465   \n",
       "2  0.301751  0.255933  0.460640  0.461944    ...     0.211056  0.558918   \n",
       "3       NaN       NaN       NaN       NaN    ...     0.000000  0.035547   \n",
       "4       NaN       NaN       NaN       NaN    ...     0.000000  0.000000   \n",
       "\n",
       "       2001      2002      2003      2004      2005      2006      2007  \\\n",
       "0  0.512450  0.576616  0.594624  0.648458  0.695720  0.617807  0.751746   \n",
       "1  0.194630  0.192489  0.333794  0.188775       NaN  0.164442       NaN   \n",
       "2  0.138358  0.273217  0.203178  0.134750  0.270398  0.068317  0.138712   \n",
       "3       NaN       NaN       NaN       NaN       NaN       NaN       NaN   \n",
       "4  0.570722       NaN       NaN       NaN       NaN       NaN       NaN   \n",
       "\n",
       "       2008  \n",
       "0       NaN  \n",
       "1       NaN  \n",
       "2  0.283946  \n",
       "3       NaN  \n",
       "4       NaN  \n",
       "\n",
       "[5 rows x 60 columns]"
      ]
     },
     "execution_count": 33,
     "metadata": {},
     "output_type": "execute_result"
    }
   ],
   "source": [
    "df_control.head(5)"
   ]
  },
  {
   "cell_type": "code",
   "execution_count": 34,
   "metadata": {
    "collapsed": true
   },
   "outputs": [],
   "source": [
    "# replace spaces with underscores and make lowercase to ease column renaming\n",
    "df_control.rename(columns=lambda x: x.strip().lower().replace(\" \", \"_\"), inplace=True)\n",
    "df_sugar.rename(columns=lambda x: x.strip().lower().replace(\" \", \"_\"), inplace=True)\n",
    "df_aid.rename(columns=lambda x: x.strip().lower().replace(\" \", \"_\"), inplace=True)\n",
    "df_elec.rename(columns=lambda x: x.strip().lower().replace(\" \", \"_\"), inplace=True)"
   ]
  },
  {
   "cell_type": "code",
   "execution_count": 35,
   "metadata": {
    "collapsed": true
   },
   "outputs": [],
   "source": [
    "# rename country column in place so we can easily pull out the Canadian data\n",
    "df_control.rename(columns={'suicide_0-14_all_age_adj': 'country'}, inplace=True)\n",
    "df_sugar.rename(columns={'unnamed:_0': 'country'}, inplace=True)\n",
    "df_aid.rename(columns={'government_and_civil_society_aid_(%_of_total_aid)': 'country'}, inplace=True)\n",
    "df_elec.rename(columns={'electricity_consumption,_per_capita_(kwh)': 'country'}, inplace=True)"
   ]
  },
  {
   "cell_type": "markdown",
   "metadata": {},
   "source": [
    "Here is the same data after the column rename:"
   ]
  },
  {
   "cell_type": "code",
   "execution_count": 36,
   "metadata": {},
   "outputs": [
    {
     "data": {
      "text/html": [
       "<div>\n",
       "<style>\n",
       "    .dataframe thead tr:only-child th {\n",
       "        text-align: right;\n",
       "    }\n",
       "\n",
       "    .dataframe thead th {\n",
       "        text-align: left;\n",
       "    }\n",
       "\n",
       "    .dataframe tbody tr th {\n",
       "        vertical-align: top;\n",
       "    }\n",
       "</style>\n",
       "<table border=\"1\" class=\"dataframe\">\n",
       "  <thead>\n",
       "    <tr style=\"text-align: right;\">\n",
       "      <th></th>\n",
       "      <th>country</th>\n",
       "      <th>1950</th>\n",
       "      <th>1951</th>\n",
       "      <th>1952</th>\n",
       "      <th>1953</th>\n",
       "      <th>1954</th>\n",
       "      <th>1955</th>\n",
       "      <th>1956</th>\n",
       "      <th>1957</th>\n",
       "      <th>1958</th>\n",
       "      <th>...</th>\n",
       "      <th>1999</th>\n",
       "      <th>2000</th>\n",
       "      <th>2001</th>\n",
       "      <th>2002</th>\n",
       "      <th>2003</th>\n",
       "      <th>2004</th>\n",
       "      <th>2005</th>\n",
       "      <th>2006</th>\n",
       "      <th>2007</th>\n",
       "      <th>2008</th>\n",
       "    </tr>\n",
       "  </thead>\n",
       "  <tbody>\n",
       "    <tr>\n",
       "      <th>0</th>\n",
       "      <td>Argentina</td>\n",
       "      <td>NaN</td>\n",
       "      <td>NaN</td>\n",
       "      <td>NaN</td>\n",
       "      <td>NaN</td>\n",
       "      <td>NaN</td>\n",
       "      <td>NaN</td>\n",
       "      <td>NaN</td>\n",
       "      <td>NaN</td>\n",
       "      <td>NaN</td>\n",
       "      <td>...</td>\n",
       "      <td>0.402384</td>\n",
       "      <td>0.379721</td>\n",
       "      <td>0.512450</td>\n",
       "      <td>0.576616</td>\n",
       "      <td>0.594624</td>\n",
       "      <td>0.648458</td>\n",
       "      <td>0.695720</td>\n",
       "      <td>0.617807</td>\n",
       "      <td>0.751746</td>\n",
       "      <td>NaN</td>\n",
       "    </tr>\n",
       "    <tr>\n",
       "      <th>1</th>\n",
       "      <td>Australia</td>\n",
       "      <td>0.282023</td>\n",
       "      <td>0.1629</td>\n",
       "      <td>0.0</td>\n",
       "      <td>0.100662</td>\n",
       "      <td>0.142596</td>\n",
       "      <td>0.044587</td>\n",
       "      <td>0.168712</td>\n",
       "      <td>0.116169</td>\n",
       "      <td>0.108778</td>\n",
       "      <td>...</td>\n",
       "      <td>0.397298</td>\n",
       "      <td>0.221465</td>\n",
       "      <td>0.194630</td>\n",
       "      <td>0.192489</td>\n",
       "      <td>0.333794</td>\n",
       "      <td>0.188775</td>\n",
       "      <td>NaN</td>\n",
       "      <td>0.164442</td>\n",
       "      <td>NaN</td>\n",
       "      <td>NaN</td>\n",
       "    </tr>\n",
       "    <tr>\n",
       "      <th>2</th>\n",
       "      <td>Austria</td>\n",
       "      <td>NaN</td>\n",
       "      <td>NaN</td>\n",
       "      <td>NaN</td>\n",
       "      <td>NaN</td>\n",
       "      <td>NaN</td>\n",
       "      <td>0.301751</td>\n",
       "      <td>0.255933</td>\n",
       "      <td>0.460640</td>\n",
       "      <td>0.461944</td>\n",
       "      <td>...</td>\n",
       "      <td>0.211056</td>\n",
       "      <td>0.558918</td>\n",
       "      <td>0.138358</td>\n",
       "      <td>0.273217</td>\n",
       "      <td>0.203178</td>\n",
       "      <td>0.134750</td>\n",
       "      <td>0.270398</td>\n",
       "      <td>0.068317</td>\n",
       "      <td>0.138712</td>\n",
       "      <td>0.283946</td>\n",
       "    </tr>\n",
       "    <tr>\n",
       "      <th>3</th>\n",
       "      <td>Azerbaijan</td>\n",
       "      <td>NaN</td>\n",
       "      <td>NaN</td>\n",
       "      <td>NaN</td>\n",
       "      <td>NaN</td>\n",
       "      <td>NaN</td>\n",
       "      <td>NaN</td>\n",
       "      <td>NaN</td>\n",
       "      <td>NaN</td>\n",
       "      <td>NaN</td>\n",
       "      <td>...</td>\n",
       "      <td>0.000000</td>\n",
       "      <td>0.035547</td>\n",
       "      <td>NaN</td>\n",
       "      <td>NaN</td>\n",
       "      <td>NaN</td>\n",
       "      <td>NaN</td>\n",
       "      <td>NaN</td>\n",
       "      <td>NaN</td>\n",
       "      <td>NaN</td>\n",
       "      <td>NaN</td>\n",
       "    </tr>\n",
       "    <tr>\n",
       "      <th>4</th>\n",
       "      <td>Bahrain</td>\n",
       "      <td>NaN</td>\n",
       "      <td>NaN</td>\n",
       "      <td>NaN</td>\n",
       "      <td>NaN</td>\n",
       "      <td>NaN</td>\n",
       "      <td>NaN</td>\n",
       "      <td>NaN</td>\n",
       "      <td>NaN</td>\n",
       "      <td>NaN</td>\n",
       "      <td>...</td>\n",
       "      <td>0.000000</td>\n",
       "      <td>0.000000</td>\n",
       "      <td>0.570722</td>\n",
       "      <td>NaN</td>\n",
       "      <td>NaN</td>\n",
       "      <td>NaN</td>\n",
       "      <td>NaN</td>\n",
       "      <td>NaN</td>\n",
       "      <td>NaN</td>\n",
       "      <td>NaN</td>\n",
       "    </tr>\n",
       "  </tbody>\n",
       "</table>\n",
       "<p>5 rows × 60 columns</p>\n",
       "</div>"
      ],
      "text/plain": [
       "      country      1950    1951  1952      1953      1954      1955      1956  \\\n",
       "0   Argentina       NaN     NaN   NaN       NaN       NaN       NaN       NaN   \n",
       "1   Australia  0.282023  0.1629   0.0  0.100662  0.142596  0.044587  0.168712   \n",
       "2     Austria       NaN     NaN   NaN       NaN       NaN  0.301751  0.255933   \n",
       "3  Azerbaijan       NaN     NaN   NaN       NaN       NaN       NaN       NaN   \n",
       "4     Bahrain       NaN     NaN   NaN       NaN       NaN       NaN       NaN   \n",
       "\n",
       "       1957      1958    ...         1999      2000      2001      2002  \\\n",
       "0       NaN       NaN    ...     0.402384  0.379721  0.512450  0.576616   \n",
       "1  0.116169  0.108778    ...     0.397298  0.221465  0.194630  0.192489   \n",
       "2  0.460640  0.461944    ...     0.211056  0.558918  0.138358  0.273217   \n",
       "3       NaN       NaN    ...     0.000000  0.035547       NaN       NaN   \n",
       "4       NaN       NaN    ...     0.000000  0.000000  0.570722       NaN   \n",
       "\n",
       "       2003      2004      2005      2006      2007      2008  \n",
       "0  0.594624  0.648458  0.695720  0.617807  0.751746       NaN  \n",
       "1  0.333794  0.188775       NaN  0.164442       NaN       NaN  \n",
       "2  0.203178  0.134750  0.270398  0.068317  0.138712  0.283946  \n",
       "3       NaN       NaN       NaN       NaN       NaN       NaN  \n",
       "4       NaN       NaN       NaN       NaN       NaN       NaN  \n",
       "\n",
       "[5 rows x 60 columns]"
      ]
     },
     "execution_count": 36,
     "metadata": {},
     "output_type": "execute_result"
    }
   ],
   "source": [
    "df_control.head(5)"
   ]
  },
  {
   "cell_type": "markdown",
   "metadata": {},
   "source": [
    "#### Extracting the Canada Data\n",
    "\n",
    "Next, for each dataset, I extracted the row for the Canada data into new dataframes."
   ]
  },
  {
   "cell_type": "code",
   "execution_count": 37,
   "metadata": {
    "collapsed": true
   },
   "outputs": [],
   "source": [
    "# pull out just the Canada data for each dataset\n",
    "df_control_can = df_control.loc[df_control['country'] == 'Canada']\n",
    "df_sugar_can = df_sugar.loc[df_sugar['country'] == 'Canada']\n",
    "df_aid_can= df_aid.loc[df_aid['country'] == 'Canada']\n",
    "df_elec_can = df_elec.loc[df_elec['country'] == 'Canada']"
   ]
  },
  {
   "cell_type": "markdown",
   "metadata": {},
   "source": [
    "Here is the suicide data for Canada:"
   ]
  },
  {
   "cell_type": "code",
   "execution_count": 38,
   "metadata": {},
   "outputs": [
    {
     "data": {
      "text/html": [
       "<div>\n",
       "<style>\n",
       "    .dataframe thead tr:only-child th {\n",
       "        text-align: right;\n",
       "    }\n",
       "\n",
       "    .dataframe thead th {\n",
       "        text-align: left;\n",
       "    }\n",
       "\n",
       "    .dataframe tbody tr th {\n",
       "        vertical-align: top;\n",
       "    }\n",
       "</style>\n",
       "<table border=\"1\" class=\"dataframe\">\n",
       "  <thead>\n",
       "    <tr style=\"text-align: right;\">\n",
       "      <th></th>\n",
       "      <th>country</th>\n",
       "      <th>1950</th>\n",
       "      <th>1951</th>\n",
       "      <th>1952</th>\n",
       "      <th>1953</th>\n",
       "      <th>1954</th>\n",
       "      <th>1955</th>\n",
       "      <th>1956</th>\n",
       "      <th>1957</th>\n",
       "      <th>1958</th>\n",
       "      <th>...</th>\n",
       "      <th>1999</th>\n",
       "      <th>2000</th>\n",
       "      <th>2001</th>\n",
       "      <th>2002</th>\n",
       "      <th>2003</th>\n",
       "      <th>2004</th>\n",
       "      <th>2005</th>\n",
       "      <th>2006</th>\n",
       "      <th>2007</th>\n",
       "      <th>2008</th>\n",
       "    </tr>\n",
       "  </thead>\n",
       "  <tbody>\n",
       "    <tr>\n",
       "      <th>10</th>\n",
       "      <td>Canada</td>\n",
       "      <td>0.088225</td>\n",
       "      <td>0.029249</td>\n",
       "      <td>0.111919</td>\n",
       "      <td>0.134195</td>\n",
       "      <td>0.102295</td>\n",
       "      <td>0.04865</td>\n",
       "      <td>0.137556</td>\n",
       "      <td>0.043363</td>\n",
       "      <td>0.226682</td>\n",
       "      <td>...</td>\n",
       "      <td>0.519018</td>\n",
       "      <td>0.737723</td>\n",
       "      <td>0.427206</td>\n",
       "      <td>0.546789</td>\n",
       "      <td>0.418587</td>\n",
       "      <td>0.434031</td>\n",
       "      <td>NaN</td>\n",
       "      <td>NaN</td>\n",
       "      <td>NaN</td>\n",
       "      <td>NaN</td>\n",
       "    </tr>\n",
       "  </tbody>\n",
       "</table>\n",
       "<p>1 rows × 60 columns</p>\n",
       "</div>"
      ],
      "text/plain": [
       "   country      1950      1951      1952      1953      1954     1955  \\\n",
       "10  Canada  0.088225  0.029249  0.111919  0.134195  0.102295  0.04865   \n",
       "\n",
       "        1956      1957      1958  ...       1999      2000      2001  \\\n",
       "10  0.137556  0.043363  0.226682  ...   0.519018  0.737723  0.427206   \n",
       "\n",
       "        2002      2003      2004  2005  2006  2007  2008  \n",
       "10  0.546789  0.418587  0.434031   NaN   NaN   NaN   NaN  \n",
       "\n",
       "[1 rows x 60 columns]"
      ]
     },
     "execution_count": 38,
     "metadata": {},
     "output_type": "execute_result"
    }
   ],
   "source": [
    "df_control_can.head()"
   ]
  },
  {
   "cell_type": "markdown",
   "metadata": {},
   "source": [
    "#### Combining the Data into a Single Dataframe\n",
    "\n",
    "In order to show a single chart with all the data, I needed to merge all the data into a single dataframe. I wanted the years as rows and the data as columns. In order to do this, I needed to tranform each dataframe and ensure the column for \"country\" was removed so it did not become a row."
   ]
  },
  {
   "cell_type": "code",
   "execution_count": 39,
   "metadata": {
    "collapsed": true
   },
   "outputs": [],
   "source": [
    "# drop country column from each dataset. we're going to turn these columns into rows\n",
    "# and we don't want a row for country.\n",
    "\n",
    "# hide warnings. c.f. https://stackoverflow.com/a/20627316/3199246\n",
    "pd.options.mode.chained_assignment = None  # default='warn'\n",
    "\n",
    "cols = [0]\n",
    "\n",
    "df_control_can.drop(df_control_can.columns[cols], axis=1, inplace=True)\n",
    "df_sugar_can.drop(df_sugar_can.columns[cols], axis=1, inplace=True)\n",
    "df_aid_can.drop(df_aid_can.columns[cols], axis=1, inplace=True)\n",
    "df_elec_can.drop(df_elec_can.columns[cols], axis=1, inplace=True)"
   ]
  },
  {
   "cell_type": "code",
   "execution_count": 40,
   "metadata": {
    "collapsed": true
   },
   "outputs": [],
   "source": [
    "# transpose each dataframe, we want 1 year / row\n",
    "df_control_can = df_control_can.T\n",
    "df_sugar_can = df_sugar_can.T\n",
    "df_aid_can = df_aid_can.T\n",
    "df_elec_can = df_elec_can.T"
   ]
  },
  {
   "cell_type": "markdown",
   "metadata": {},
   "source": [
    "The suicide data for Canada now looks like this:"
   ]
  },
  {
   "cell_type": "code",
   "execution_count": 41,
   "metadata": {},
   "outputs": [
    {
     "data": {
      "text/html": [
       "<div>\n",
       "<style>\n",
       "    .dataframe thead tr:only-child th {\n",
       "        text-align: right;\n",
       "    }\n",
       "\n",
       "    .dataframe thead th {\n",
       "        text-align: left;\n",
       "    }\n",
       "\n",
       "    .dataframe tbody tr th {\n",
       "        vertical-align: top;\n",
       "    }\n",
       "</style>\n",
       "<table border=\"1\" class=\"dataframe\">\n",
       "  <thead>\n",
       "    <tr style=\"text-align: right;\">\n",
       "      <th></th>\n",
       "      <th>10</th>\n",
       "    </tr>\n",
       "  </thead>\n",
       "  <tbody>\n",
       "    <tr>\n",
       "      <th>1950</th>\n",
       "      <td>0.088225</td>\n",
       "    </tr>\n",
       "    <tr>\n",
       "      <th>1951</th>\n",
       "      <td>0.029249</td>\n",
       "    </tr>\n",
       "    <tr>\n",
       "      <th>1952</th>\n",
       "      <td>0.111919</td>\n",
       "    </tr>\n",
       "    <tr>\n",
       "      <th>1953</th>\n",
       "      <td>0.134195</td>\n",
       "    </tr>\n",
       "    <tr>\n",
       "      <th>1954</th>\n",
       "      <td>0.102295</td>\n",
       "    </tr>\n",
       "  </tbody>\n",
       "</table>\n",
       "</div>"
      ],
      "text/plain": [
       "            10\n",
       "1950  0.088225\n",
       "1951  0.029249\n",
       "1952  0.111919\n",
       "1953  0.134195\n",
       "1954  0.102295"
      ]
     },
     "execution_count": 41,
     "metadata": {},
     "output_type": "execute_result"
    }
   ],
   "source": [
    "df_control_can.head()"
   ]
  },
  {
   "cell_type": "code",
   "execution_count": 42,
   "metadata": {},
   "outputs": [
    {
     "data": {
      "text/html": [
       "<div>\n",
       "<style>\n",
       "    .dataframe thead tr:only-child th {\n",
       "        text-align: right;\n",
       "    }\n",
       "\n",
       "    .dataframe thead th {\n",
       "        text-align: left;\n",
       "    }\n",
       "\n",
       "    .dataframe tbody tr th {\n",
       "        vertical-align: top;\n",
       "    }\n",
       "</style>\n",
       "<table border=\"1\" class=\"dataframe\">\n",
       "  <thead>\n",
       "    <tr style=\"text-align: right;\">\n",
       "      <th></th>\n",
       "      <th>10</th>\n",
       "    </tr>\n",
       "  </thead>\n",
       "  <tbody>\n",
       "    <tr>\n",
       "      <th>2004</th>\n",
       "      <td>0.434031</td>\n",
       "    </tr>\n",
       "    <tr>\n",
       "      <th>2005</th>\n",
       "      <td>NaN</td>\n",
       "    </tr>\n",
       "    <tr>\n",
       "      <th>2006</th>\n",
       "      <td>NaN</td>\n",
       "    </tr>\n",
       "    <tr>\n",
       "      <th>2007</th>\n",
       "      <td>NaN</td>\n",
       "    </tr>\n",
       "    <tr>\n",
       "      <th>2008</th>\n",
       "      <td>NaN</td>\n",
       "    </tr>\n",
       "  </tbody>\n",
       "</table>\n",
       "</div>"
      ],
      "text/plain": [
       "            10\n",
       "2004  0.434031\n",
       "2005       NaN\n",
       "2006       NaN\n",
       "2007       NaN\n",
       "2008       NaN"
      ]
     },
     "execution_count": 42,
     "metadata": {},
     "output_type": "execute_result"
    }
   ],
   "source": [
    "df_control_can.tail()"
   ]
  },
  {
   "cell_type": "markdown",
   "metadata": {},
   "source": [
    "As the next step prior to merging, I wanted to ensure the columns had descriptive names for the data. The years are still an index; I changed those to columns so the merge had common data to merge on. Also, as shown above, some of the data was missing, so I removed those rows before merging."
   ]
  },
  {
   "cell_type": "code",
   "execution_count": 43,
   "metadata": {
    "collapsed": true
   },
   "outputs": [],
   "source": [
    "# rename the columns\n",
    "df_control_can.index.name = 'year'\n",
    "df_control_can.columns = ['suicides']\n",
    "\n",
    "df_sugar_can.index.name = 'year'\n",
    "df_sugar_can.columns = ['sugar']\n",
    "\n",
    "df_aid_can.index.name = 'year'\n",
    "df_aid_can.columns = ['aid']\n",
    "\n",
    "df_elec_can.index.name = 'year'\n",
    "df_elec_can.columns = ['electricity']"
   ]
  },
  {
   "cell_type": "code",
   "execution_count": 44,
   "metadata": {
    "collapsed": true
   },
   "outputs": [],
   "source": [
    "# drop if any value in the row has a nan\n",
    "df_control_can.dropna(how='any', inplace = True);\n",
    "df_sugar_can.dropna(how='any', inplace = True);\n",
    "df_aid_can.dropna(how='any', inplace = True);\n",
    "df_elec_can.dropna(how='any', inplace = True);"
   ]
  },
  {
   "cell_type": "code",
   "execution_count": 45,
   "metadata": {
    "collapsed": true
   },
   "outputs": [],
   "source": [
    "# for merging ease, make the year a column\n",
    "df_control_can.reset_index(inplace = True)\n",
    "df_sugar_can.reset_index(inplace = True)\n",
    "df_aid_can.reset_index(inplace = True)\n",
    "df_elec_can.reset_index(inplace = True)"
   ]
  },
  {
   "cell_type": "markdown",
   "metadata": {},
   "source": [
    "The suicide data now looks like this:"
   ]
  },
  {
   "cell_type": "code",
   "execution_count": 46,
   "metadata": {},
   "outputs": [
    {
     "data": {
      "text/html": [
       "<div>\n",
       "<style>\n",
       "    .dataframe thead tr:only-child th {\n",
       "        text-align: right;\n",
       "    }\n",
       "\n",
       "    .dataframe thead th {\n",
       "        text-align: left;\n",
       "    }\n",
       "\n",
       "    .dataframe tbody tr th {\n",
       "        vertical-align: top;\n",
       "    }\n",
       "</style>\n",
       "<table border=\"1\" class=\"dataframe\">\n",
       "  <thead>\n",
       "    <tr style=\"text-align: right;\">\n",
       "      <th></th>\n",
       "      <th>year</th>\n",
       "      <th>suicides</th>\n",
       "    </tr>\n",
       "  </thead>\n",
       "  <tbody>\n",
       "    <tr>\n",
       "      <th>0</th>\n",
       "      <td>1950</td>\n",
       "      <td>0.088225</td>\n",
       "    </tr>\n",
       "    <tr>\n",
       "      <th>1</th>\n",
       "      <td>1951</td>\n",
       "      <td>0.029249</td>\n",
       "    </tr>\n",
       "    <tr>\n",
       "      <th>2</th>\n",
       "      <td>1952</td>\n",
       "      <td>0.111919</td>\n",
       "    </tr>\n",
       "    <tr>\n",
       "      <th>3</th>\n",
       "      <td>1953</td>\n",
       "      <td>0.134195</td>\n",
       "    </tr>\n",
       "    <tr>\n",
       "      <th>4</th>\n",
       "      <td>1954</td>\n",
       "      <td>0.102295</td>\n",
       "    </tr>\n",
       "  </tbody>\n",
       "</table>\n",
       "</div>"
      ],
      "text/plain": [
       "   year  suicides\n",
       "0  1950  0.088225\n",
       "1  1951  0.029249\n",
       "2  1952  0.111919\n",
       "3  1953  0.134195\n",
       "4  1954  0.102295"
      ]
     },
     "execution_count": 46,
     "metadata": {},
     "output_type": "execute_result"
    }
   ],
   "source": [
    "df_control_can.head()"
   ]
  },
  {
   "cell_type": "code",
   "execution_count": 47,
   "metadata": {},
   "outputs": [
    {
     "data": {
      "text/html": [
       "<div>\n",
       "<style>\n",
       "    .dataframe thead tr:only-child th {\n",
       "        text-align: right;\n",
       "    }\n",
       "\n",
       "    .dataframe thead th {\n",
       "        text-align: left;\n",
       "    }\n",
       "\n",
       "    .dataframe tbody tr th {\n",
       "        vertical-align: top;\n",
       "    }\n",
       "</style>\n",
       "<table border=\"1\" class=\"dataframe\">\n",
       "  <thead>\n",
       "    <tr style=\"text-align: right;\">\n",
       "      <th></th>\n",
       "      <th>year</th>\n",
       "      <th>suicides</th>\n",
       "    </tr>\n",
       "  </thead>\n",
       "  <tbody>\n",
       "    <tr>\n",
       "      <th>50</th>\n",
       "      <td>2000</td>\n",
       "      <td>0.737723</td>\n",
       "    </tr>\n",
       "    <tr>\n",
       "      <th>51</th>\n",
       "      <td>2001</td>\n",
       "      <td>0.427206</td>\n",
       "    </tr>\n",
       "    <tr>\n",
       "      <th>52</th>\n",
       "      <td>2002</td>\n",
       "      <td>0.546789</td>\n",
       "    </tr>\n",
       "    <tr>\n",
       "      <th>53</th>\n",
       "      <td>2003</td>\n",
       "      <td>0.418587</td>\n",
       "    </tr>\n",
       "    <tr>\n",
       "      <th>54</th>\n",
       "      <td>2004</td>\n",
       "      <td>0.434031</td>\n",
       "    </tr>\n",
       "  </tbody>\n",
       "</table>\n",
       "</div>"
      ],
      "text/plain": [
       "    year  suicides\n",
       "50  2000  0.737723\n",
       "51  2001  0.427206\n",
       "52  2002  0.546789\n",
       "53  2003  0.418587\n",
       "54  2004  0.434031"
      ]
     },
     "execution_count": 47,
     "metadata": {},
     "output_type": "execute_result"
    }
   ],
   "source": [
    "df_control_can.tail()"
   ]
  },
  {
   "cell_type": "markdown",
   "metadata": {},
   "source": [
    "The final step for this section was to merge into a single dataframe."
   ]
  },
  {
   "cell_type": "code",
   "execution_count": 48,
   "metadata": {
    "collapsed": true
   },
   "outputs": [],
   "source": [
    "# merge all data into a new dataframe\n",
    "df = pd.merge(df_control_can, df_sugar_can)\n",
    "df = pd.merge(df, df_aid_can)\n",
    "df = pd.merge(df, df_elec_can)"
   ]
  },
  {
   "cell_type": "code",
   "execution_count": 49,
   "metadata": {},
   "outputs": [
    {
     "data": {
      "text/html": [
       "<div>\n",
       "<style>\n",
       "    .dataframe thead tr:only-child th {\n",
       "        text-align: right;\n",
       "    }\n",
       "\n",
       "    .dataframe thead th {\n",
       "        text-align: left;\n",
       "    }\n",
       "\n",
       "    .dataframe tbody tr th {\n",
       "        vertical-align: top;\n",
       "    }\n",
       "</style>\n",
       "<table border=\"1\" class=\"dataframe\">\n",
       "  <thead>\n",
       "    <tr style=\"text-align: right;\">\n",
       "      <th></th>\n",
       "      <th>year</th>\n",
       "      <th>suicides</th>\n",
       "      <th>sugar</th>\n",
       "      <th>aid</th>\n",
       "      <th>electricity</th>\n",
       "    </tr>\n",
       "  </thead>\n",
       "  <tbody>\n",
       "    <tr>\n",
       "      <th>0</th>\n",
       "      <td>1972</td>\n",
       "      <td>0.325459</td>\n",
       "      <td>131.51</td>\n",
       "      <td>3.784353</td>\n",
       "      <td>9903.776327</td>\n",
       "    </tr>\n",
       "    <tr>\n",
       "      <th>1</th>\n",
       "      <td>1973</td>\n",
       "      <td>0.339213</td>\n",
       "      <td>128.77</td>\n",
       "      <td>0.654057</td>\n",
       "      <td>10297.948209</td>\n",
       "    </tr>\n",
       "    <tr>\n",
       "      <th>2</th>\n",
       "      <td>1975</td>\n",
       "      <td>0.362898</td>\n",
       "      <td>120.55</td>\n",
       "      <td>2.117721</td>\n",
       "      <td>10436.942565</td>\n",
       "    </tr>\n",
       "    <tr>\n",
       "      <th>3</th>\n",
       "      <td>1976</td>\n",
       "      <td>0.306694</td>\n",
       "      <td>128.77</td>\n",
       "      <td>7.336720</td>\n",
       "      <td>11043.838762</td>\n",
       "    </tr>\n",
       "    <tr>\n",
       "      <th>4</th>\n",
       "      <td>1977</td>\n",
       "      <td>0.498363</td>\n",
       "      <td>126.03</td>\n",
       "      <td>3.749176</td>\n",
       "      <td>11762.481089</td>\n",
       "    </tr>\n",
       "  </tbody>\n",
       "</table>\n",
       "</div>"
      ],
      "text/plain": [
       "   year  suicides   sugar       aid   electricity\n",
       "0  1972  0.325459  131.51  3.784353   9903.776327\n",
       "1  1973  0.339213  128.77  0.654057  10297.948209\n",
       "2  1975  0.362898  120.55  2.117721  10436.942565\n",
       "3  1976  0.306694  128.77  7.336720  11043.838762\n",
       "4  1977  0.498363  126.03  3.749176  11762.481089"
      ]
     },
     "execution_count": 49,
     "metadata": {},
     "output_type": "execute_result"
    }
   ],
   "source": [
    "df.head()"
   ]
  },
  {
   "cell_type": "markdown",
   "metadata": {},
   "source": [
    "<a id='eda'></a>\n",
    "## Exploratory Data Analysis\n",
    "\n",
    "First, let's chart each dataset by itself."
   ]
  },
  {
   "cell_type": "markdown",
   "metadata": {},
   "source": [
    "### Suicides children 0-14, Canada\n",
    "\n",
    "The interesting thing in this chart, after a steady rise for 40 years, is the notable decrease after its peak in the 1990s."
   ]
  },
  {
   "cell_type": "code",
   "execution_count": 50,
   "metadata": {},
   "outputs": [
    {
     "data": {
      "image/png": "[encoded data removed]",
      "text/plain": [
       "<matplotlib.figure.Figure at 0x11937bf28>"
      ]
     },
     "metadata": {},
     "output_type": "display_data"
    }
   ],
   "source": [
    "plt.plot(df_control_can['year'], df_control_can['suicides'])\n",
    "\n",
    "plt.xlabel('Year')\n",
    "plt.ylabel('per 100 000 standard population')\n",
    "plt.title('Suicides children 0-14, Canada')\n",
    "\n",
    "plt.show()"
   ]
  },
  {
   "cell_type": "markdown",
   "metadata": {},
   "source": [
    "### Sugar consumption per person, Canada\n",
    "\n",
    "There is clearly a large increase since the 1990s, following a decrease since the 1960s."
   ]
  },
  {
   "cell_type": "code",
   "execution_count": 25,
   "metadata": {},
   "outputs": [
    {
     "data": {
      "image/png": "[encoded data removed]",
      "text/plain": [
       "<matplotlib.figure.Figure at 0x118e4b748>"
      ]
     },
     "metadata": {},
     "output_type": "display_data"
    }
   ],
   "source": [
    "plt.plot(df_sugar_can['year'], df_sugar_can['sugar'])\n",
    "\n",
    "plt.title('Sugar consumption per person, Canada')\n",
    "plt.xlabel('Year')\n",
    "plt.ylabel('g per day')\n",
    "\n",
    "plt.show()"
   ]
  },
  {
   "cell_type": "markdown",
   "metadata": {},
   "source": [
    "### Government and civil society aid, Canada\n",
    "\n",
    "After years of relatively flat data, this aid increased greatly since the 1990s."
   ]
  },
  {
   "cell_type": "code",
   "execution_count": 26,
   "metadata": {},
   "outputs": [
    {
     "data": {
      "image/png": "[encoded data removed]",
      "text/plain": [
       "<matplotlib.figure.Figure at 0x118e1fd68>"
      ]
     },
     "metadata": {},
     "output_type": "display_data"
    }
   ],
   "source": [
    "plt.plot(df_aid_can['year'], df_aid_can['aid'])\n",
    "\n",
    "plt.title('Government and civil society aid, Canada')\n",
    "plt.xlabel('Year')\n",
    "plt.ylabel('% of total aid')\n",
    "\n",
    "plt.show()"
   ]
  },
  {
   "cell_type": "markdown",
   "metadata": {},
   "source": [
    "### Electricity consumption, Canada\n",
    "\n",
    "It's no surprise that electricity consumption continues a general trend of increasing; I began to wonder if there was a correlation with youth suidice."
   ]
  },
  {
   "cell_type": "code",
   "execution_count": 28,
   "metadata": {},
   "outputs": [
    {
     "data": {
      "image/png": "[encoded data removed]",
      "text/plain": [
       "<matplotlib.figure.Figure at 0x118dad2e8>"
      ]
     },
     "metadata": {},
     "output_type": "display_data"
    }
   ],
   "source": [
    "plt.plot(df_elec_can['year'], df_elec_can['electricity'])\n",
    "\n",
    "plt.title('Electricity consumption, Canada')\n",
    "plt.xlabel('Year')\n",
    "plt.ylabel('per capita (kWh)')\n",
    "\n",
    "plt.show()"
   ]
  },
  {
   "cell_type": "markdown",
   "metadata": {},
   "source": [
    "### All the datasets in one chart\n",
    "\n",
    "All the data show a general increase over the years, some with a more pronounced increase since the 1990s. In putting the data on one chart and adjusting the y-values to its own scale for each dataset, I wanted to see if any of the trends mapped closely with suicides."
   ]
  },
  {
   "cell_type": "code",
   "execution_count": 29,
   "metadata": {},
   "outputs": [
    {
     "data": {
      "image/png": "[encoded data removed]",
      "text/plain": [
       "<matplotlib.figure.Figure at 0x118db5eb8>"
      ]
     },
     "metadata": {},
     "output_type": "display_data"
    }
   ],
   "source": [
    "fig = plt.figure()\n",
    "host = fig.add_subplot(111)\n",
    "\n",
    "par1 = host.twinx()\n",
    "par2 = host.twinx()\n",
    "par3 = host.twinx()\n",
    "\n",
    "host.set_title('Suicides children 0-14, Canada')\n",
    "\n",
    "host.set_xlabel('Year')\n",
    "host.set_ylabel('Suicides per 100 000 standard population')\n",
    "\n",
    "par1.set_ylabel('Sugar consumption, g per day')\n",
    "par2.set_ylabel('Government and civil society aid (% of total aid)')\n",
    "par3.set_ylabel('Electricity consumption, per capita (kWh)')\n",
    "\n",
    "color1 = plt.cm.viridis(0)\n",
    "color2 = plt.cm.viridis(0.4)\n",
    "color3 = plt.cm.viridis(0.8)\n",
    "color4 = plt.cm.viridis(1.2)\n",
    "\n",
    "p1, = host.plot(df['year'], df['suicides'], color=color1, label=\"suicides\")\n",
    "p2, = par1.plot(df['year'], df['sugar'], color=color2, label=\"sugar\")\n",
    "p3, = par2.plot(df['year'], df['aid'], color=color3, label=\"aid\")\n",
    "p4, = par3.plot(df['year'], df['electricity'], color=color4, label=\"electricity\")\n",
    "\n",
    "lns = [p1, p2, p3, p4]\n",
    "host.legend(handles=lns, loc='best')\n",
    "\n",
    "# right, left, top, bottom\n",
    "par2.spines['right'].set_position(('outward', 60))\n",
    "par3.spines['right'].set_position(('outward', 120))\n",
    "\n",
    "plt.show()"
   ]
  },
  {
   "cell_type": "markdown",
   "metadata": {},
   "source": [
    "### Does increased sugar consumption increase suicide rates?\n",
    "\n",
    "By examining the chart below, no, there does not appear to be a strong correlation between suicide rates and sugar consumption. Since "
   ]
  },
  {
   "cell_type": "code",
   "execution_count": 51,
   "metadata": {},
   "outputs": [
    {
     "data": {
      "image/png": "[encoded data removed]",
      "text/plain": [
       "<matplotlib.figure.Figure at 0x11943f2b0>"
      ]
     },
     "metadata": {},
     "output_type": "display_data"
    }
   ],
   "source": [
    "# c.f. https://stackoverflow.com/a/45925049/3199246\n",
    "\n",
    "fig = plt.figure()\n",
    "host = fig.add_subplot(111)\n",
    "\n",
    "par1 = host.twinx()\n",
    "\n",
    "host.set_title('Suicides children 0-14, Canada')\n",
    "\n",
    "host.set_xlabel('Year')\n",
    "host.set_ylabel('Suicides per 100 000 standard population')\n",
    "\n",
    "par1.set_ylabel('Sugar consumption, g per day')\n",
    "\n",
    "color1 = plt.cm.viridis(0)\n",
    "color2 = plt.cm.viridis(0.4)\n",
    "color3 = plt.cm.viridis(0.8)\n",
    "color4 = plt.cm.viridis(1.2)\n",
    "\n",
    "p1, = host.plot(df['year'], df['suicides'], color=color1, label=\"suicides\")\n",
    "p2, = par1.plot(df['year'], df['sugar'], color=color2, label=\"sugar\")\n",
    "\n",
    "lns = [p1, p2]\n",
    "host.legend(handles=lns, loc='best')\n",
    "\n",
    "plt.show()"
   ]
  },
  {
   "cell_type": "markdown",
   "metadata": {},
   "source": [
    "### Does increased government and civil society aid decrease suicide rates?"
   ]
  },
  {
   "cell_type": "code",
   "execution_count": null,
   "metadata": {
    "collapsed": true
   },
   "outputs": [],
   "source": []
  },
  {
   "cell_type": "markdown",
   "metadata": {},
   "source": [
    "### Is there a correlation between consumption of electricy and suicide rates?"
   ]
  },
  {
   "cell_type": "code",
   "execution_count": null,
   "metadata": {
    "collapsed": true
   },
   "outputs": [],
   "source": []
  },
  {
   "cell_type": "markdown",
   "metadata": {},
   "source": [
    "### Why has the suicide rate dipped since its peak in the 1990s?"
   ]
  },
  {
   "cell_type": "code",
   "execution_count": null,
   "metadata": {
    "collapsed": true
   },
   "outputs": [],
   "source": []
  },
  {
   "cell_type": "code",
   "execution_count": null,
   "metadata": {
    "collapsed": true
   },
   "outputs": [],
   "source": [
    "# Use this, and more code cells, to explore your data. Don't forget to add\n",
    "#   Markdown cells to document your observations and findings.\n"
   ]
  },
  {
   "cell_type": "markdown",
   "metadata": {},
   "source": [
    "### Research Question 2  (Replace this header name!)"
   ]
  },
  {
   "cell_type": "code",
   "execution_count": null,
   "metadata": {
    "collapsed": true
   },
   "outputs": [],
   "source": [
    "# Continue to explore the data to address your additional research\n",
    "#   questions. Add more headers as needed if you have more questions to\n",
    "#   investigate.\n"
   ]
  },
  {
   "cell_type": "markdown",
   "metadata": {},
   "source": [
    "<a id='conclusions'></a>\n",
    "## Conclusions\n",
    "\n",
    "> **Tip**: Finally, summarize your findings and the results that have been performed. Make sure that you are clear with regards to the limitations of your exploration. If you haven't done any statistical tests, do not imply any statistical conclusions. And make sure you avoid implying causation from correlation!\n",
    "\n",
    "> **Tip**: Once you are satisfied with your work, you should save a copy of the report in HTML or PDF form via the **File** > **Download as** submenu. Before exporting your report, check over it to make sure that the flow of the report is complete. You should probably remove all of the \"Tip\" quotes like this one so that the presentation is as tidy as possible. Congratulations!"
   ]
  },
  {
   "cell_type": "code",
   "execution_count": null,
   "metadata": {
    "collapsed": true
   },
   "outputs": [],
   "source": []
  }
 ],
 "metadata": {
  "kernelspec": {
   "display_name": "Python [default]",
   "language": "python",
   "name": "python3"
  },
  "language_info": {
   "codemirror_mode": {
    "name": "ipython",
    "version": 3
   },
   "file_extension": ".py",
   "mimetype": "text/x-python",
   "name": "python",
   "nbconvert_exporter": "python",
   "pygments_lexer": "ipython3",
   "version": "3.6.1"
  }
 },
 "nbformat": 4,
 "nbformat_minor": 2
}
